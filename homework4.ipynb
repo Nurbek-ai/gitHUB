{
 "cells": [
  {
   "cell_type": "markdown",
   "metadata": {},
   "source": [
    "<font size=\"5\" color=\"white\">Task 1</font>"
   ]
  },
  {
   "cell_type": "markdown",
   "metadata": {},
   "source": [
    "1. convert_cel_to_far() which takes one float parameter representing degrees Celsius and returns a float representing the same temperature in degrees Fahrenheit using the following formula: F = C * 9/5 + 32\n"
   ]
  },
  {
   "cell_type": "code",
   "execution_count": 1,
   "metadata": {},
   "outputs": [
    {
     "name": "stdout",
     "output_type": "stream",
     "text": [
      "50 C = 122.0 F\n"
     ]
    }
   ],
   "source": [
    "def convert_cel_to_far(Celsius):\n",
    "    F = Celsius*9/5+32\n",
    "    print(f\"{Celsius} C = {F} F\")\n",
    "\n",
    "convert_cel_to_far(50)"
   ]
  },
  {
   "cell_type": "markdown",
   "metadata": {},
   "source": [
    "2. convert_far_to_cel() which take one float parameter representing degrees Fahrenheit and returns a float representing the same temperature in degrees Celsius using the following formula: C = (F - 32) * 5/9\n"
   ]
  },
  {
   "cell_type": "code",
   "execution_count": 3,
   "metadata": {},
   "outputs": [
    {
     "name": "stdout",
     "output_type": "stream",
     "text": [
      "122 F = 50.0 C\n"
     ]
    }
   ],
   "source": [
    "def convert_far_to_cel(Fahrenheit):\n",
    "    C = (Fahrenheit - 32)*5/9\n",
    "    print(f\"{Fahrenheit} F = {C} C\")\n",
    "\n",
    "convert_far_to_cel(122)"
   ]
  },
  {
   "cell_type": "markdown",
   "metadata": {},
   "source": [
    "<font size=\"5\" color=\"white\">Task 2</font>"
   ]
  },
  {
   "cell_type": "code",
   "execution_count": 9,
   "metadata": {},
   "outputs": [
    {
     "name": "stdout",
     "output_type": "stream",
     "text": [
      "The profit for 1 years/year is 105.0\n",
      "None\n",
      "The profit for 2 years/year is 110.25\n",
      "None\n",
      "The profit for 3 years/year is 115.76250000000002\n",
      "None\n",
      "The profit for 4 years/year is 121.55062500000003\n",
      "None\n"
     ]
    }
   ],
   "source": [
    "def invest(amount, rate, years):\n",
    "    D = amount * ((1 + rate / 100) ** years)  \n",
    "    print(f\"The profit for {years} years/year is {D}\")\n",
    "\n",
    "print(invest(100, 5, 1))\n",
    "print(invest(100, 5, 2))\n",
    "print(invest(100, 5, 3))\n",
    "print(invest(100, 5, 4))"
   ]
  },
  {
   "cell_type": "markdown",
   "metadata": {},
   "source": [
    "<font size=\"5\" color=\"white\">Task 2</font>"
   ]
  },
  {
   "cell_type": "code",
   "execution_count": 18,
   "metadata": {},
   "outputs": [
    {
     "name": "stdout",
     "output_type": "stream",
     "text": [
      "1 is a factor of 12\n",
      "2 is a factor of 12\n",
      "3 is a factor of 12\n",
      "4 is a factor of 12\n",
      "6 is a factor of 12\n",
      "12 is a factor of 12\n"
     ]
    }
   ],
   "source": [
    "def factor(number):\n",
    "    for n in range(1, number + 1):\n",
    "        if number % n == 0:\n",
    "            print(f\"{n} is a factor of {number}\")\n",
    "\n",
    "factor(12)\n"
   ]
  },
  {
   "cell_type": "markdown",
   "metadata": {},
   "source": [
    "<font size=\"5\" color=\"white\">Task 3</font>"
   ]
  },
  {
   "cell_type": "code",
   "execution_count": 20,
   "metadata": {},
   "outputs": [
    {
     "name": "stdout",
     "output_type": "stream",
     "text": [
      "Total students: $ 77285\n",
      "Total tuition: $ 271905\n",
      "Student mean: $ 11040.714285714286\n",
      "Student median: $ 10566\n",
      "Tuition mean: $ 38843.57142857143\n",
      "Tuition median: $ 39849\n"
     ]
    }
   ],
   "source": [
    "universities = [\n",
    "    ['California Institute of Technology', 2175, 37704],\n",
    "    ['Harvard', 19627, 39849],\n",
    "    ['Massachusetts Institute of Technology', 10566, 40732],\n",
    "    ['Princeton', 7802, 37000],\n",
    "    ['Rice', 5879, 35551],\n",
    "    ['Stanford', 19535, 40569],\n",
    "    ['Yale', 11701, 40500]\n",
    "]\n",
    "\n",
    "def enrollment_stats(universities):\n",
    "    enrollments = [i[1] for i in universities]\n",
    "    tuition = [i[2] for i in universities]\n",
    "    return enrollments, tuition\n",
    "\n",
    "def means(ls):\n",
    "    return sum(ls) / len(ls)\n",
    "\n",
    "def medians(ls):\n",
    "    sorting = sorted(ls)\n",
    "    length = len(sorting)\n",
    "    if length % 2 == 0:\n",
    "        return (sorting[length // 2 - 1] + sorting[length // 2]) / 2\n",
    "    else:\n",
    "        return sorting[length // 2]\n",
    "\n",
    "enrollment, tuition = enrollment_stats(universities)\n",
    "total_students = sum(enrollment)\n",
    "sum_tuition = sum(tuition)\n",
    "meanofst = means(enrollment)\n",
    "medianofst = medians(enrollment)\n",
    "meanoftuit = means(tuition)\n",
    "medianoftuit = medians(tuition)\n",
    "\n",
    "print(f\"Total students: $ {total_students}\")\n",
    "print(f\"Total tuition: $ {sum_tuition}\")\n",
    "print(f\"Student mean: $ {meanofst}\")\n",
    "print(f\"Student median: $ {medianofst}\")\n",
    "print(f\"Tuition mean: $ {meanoftuit}\")\n",
    "print(f\"Tuition median: $ {medianoftuit}\")\n"
   ]
  }
 ],
 "metadata": {
  "kernelspec": {
   "display_name": "Python 3",
   "language": "python",
   "name": "python3"
  },
  "language_info": {
   "codemirror_mode": {
    "name": "ipython",
    "version": 3
   },
   "file_extension": ".py",
   "mimetype": "text/x-python",
   "name": "python",
   "nbconvert_exporter": "python",
   "pygments_lexer": "ipython3",
   "version": "3.12.6"
  }
 },
 "nbformat": 4,
 "nbformat_minor": 2
}

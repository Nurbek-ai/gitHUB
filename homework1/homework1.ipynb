{
 "cells": [
  {
   "cell_type": "markdown",
   "metadata": {},
   "source": [
    "begin1"
   ]
  },
  {
   "cell_type": "code",
   "execution_count": 1,
   "metadata": {},
   "outputs": [
    {
     "name": "stdout",
     "output_type": "stream",
     "text": [
      "perimeter: 16\n"
     ]
    }
   ],
   "source": [
    "def perimetersq(a):\n",
    "    p = 4 * a\n",
    "    print(f\"perimeter: {p}\")\n",
    "perimetersq(4)"
   ]
  },
  {
   "cell_type": "markdown",
   "metadata": {},
   "source": [
    "begin2"
   ]
  },
  {
   "cell_type": "code",
   "execution_count": 2,
   "metadata": {},
   "outputs": [
    {
     "name": "stdout",
     "output_type": "stream",
     "text": [
      "Surface of the square: 9\n"
     ]
    }
   ],
   "source": [
    "def surface(a):\n",
    "    s = a**2\n",
    "    print(f\"Surface of the square: {s}\")\n",
    "surface(3)"
   ]
  },
  {
   "cell_type": "markdown",
   "metadata": {},
   "source": [
    "begin3"
   ]
  },
  {
   "cell_type": "code",
   "execution_count": 3,
   "metadata": {},
   "outputs": [
    {
     "name": "stdout",
     "output_type": "stream",
     "text": [
      "Perimeter of shape is: 10\n",
      "Surface of shape is: 6\n"
     ]
    }
   ],
   "source": [
    "def perimeter(a, b):\n",
    "    p = 2*(a+b)\n",
    "    s = a*b\n",
    "    print(f\"Perimeter of shape is: {p}\")\n",
    "    print(f\"Surface of shape is: {s}\")\n",
    "\n",
    "perimeter(3, 2)"
   ]
  },
  {
   "cell_type": "markdown",
   "metadata": {},
   "source": [
    "begin4"
   ]
  },
  {
   "cell_type": "code",
   "execution_count": 4,
   "metadata": {},
   "outputs": [
    {
     "name": "stdout",
     "output_type": "stream",
     "text": [
      "Length of circle is:15.700000000000001\n"
     ]
    }
   ],
   "source": [
    "def circle(d):\n",
    "    pi = 3.14\n",
    "    l = pi*d\n",
    "    print(f\"Length of circle is:{l}\")\n",
    "\n",
    "circle(5)"
   ]
  },
  {
   "cell_type": "markdown",
   "metadata": {},
   "source": [
    "begin5"
   ]
  },
  {
   "cell_type": "code",
   "execution_count": 5,
   "metadata": {},
   "outputs": [
    {
     "name": "stdout",
     "output_type": "stream",
     "text": [
      "Volume of the cube: 64\n",
      "Space of the cube: 96\n"
     ]
    }
   ],
   "source": [
    "def cube(a):\n",
    "    v = a**3\n",
    "    s = 6*a**2\n",
    "    print(f\"Volume of the cube: {v}\")\n",
    "    print(f\"Space of the cube: {s}\")\n",
    "\n",
    "cube(4)"
   ]
  },
  {
   "cell_type": "markdown",
   "metadata": {},
   "source": [
    "begin6"
   ]
  },
  {
   "cell_type": "code",
   "execution_count": 6,
   "metadata": {},
   "outputs": [
    {
     "name": "stdout",
     "output_type": "stream",
     "text": [
      "Volume is: 60\n",
      "Space is: 94\n"
     ]
    }
   ],
   "source": [
    "def p(a, b, c):\n",
    "    v = a*b*c\n",
    "    s = 2*(a*b+b*c+a*c)\n",
    "    print(f\"Volume is: {v}\")\n",
    "    print(f\"Space is: {s}\")\n",
    "\n",
    "p(3, 4, 5)"
   ]
  },
  {
   "cell_type": "markdown",
   "metadata": {},
   "source": [
    "begin7"
   ]
  },
  {
   "cell_type": "code",
   "execution_count": 7,
   "metadata": {},
   "outputs": [
    {
     "name": "stdout",
     "output_type": "stream",
     "text": [
      "Length is: 25.12\n",
      "Space is: 50.24\n"
     ]
    }
   ],
   "source": [
    "def cir(r):\n",
    "    pi = 3.14\n",
    "    l = 2*pi*r\n",
    "    s = pi*r**2\n",
    "    print(f\"Length is: {l}\")\n",
    "    print(f\"Space is: {s}\")\n",
    "\n",
    "cir(4)"
   ]
  },
  {
   "cell_type": "markdown",
   "metadata": {},
   "source": [
    "begin8"
   ]
  },
  {
   "cell_type": "code",
   "execution_count": 8,
   "metadata": {},
   "outputs": [
    {
     "name": "stdout",
     "output_type": "stream",
     "text": [
      "Average is: 2.5\n"
     ]
    }
   ],
   "source": [
    "def avg(a, b):\n",
    "    avgnum = (a+b)/2\n",
    "    print(f\"Average is: {avgnum}\")\n",
    "\n",
    "avg(3, 2)"
   ]
  },
  {
   "cell_type": "markdown",
   "metadata": {},
   "source": [
    "begin9"
   ]
  },
  {
   "cell_type": "code",
   "execution_count": 9,
   "metadata": {},
   "outputs": [
    {
     "name": "stdout",
     "output_type": "stream",
     "text": [
      "Root: 3.0\n"
     ]
    }
   ],
   "source": [
    "import math\n",
    "def avga(a, b):\n",
    "    if a>0 and b>0:\n",
    "        p = math.sqrt(a*b)\n",
    "    print(f\"Root: {p}\")\n",
    "\n",
    "avga(3, 3)"
   ]
  },
  {
   "cell_type": "markdown",
   "metadata": {},
   "source": [
    "begin10"
   ]
  },
  {
   "cell_type": "code",
   "execution_count": 10,
   "metadata": {},
   "outputs": [
    {
     "name": "stdout",
     "output_type": "stream",
     "text": [
      "a + b = 6\n",
      "a * b = 8\n",
      "a**2 = 4\n",
      "b**2 = 16\n"
     ]
    }
   ],
   "source": [
    "def calculate(a, b):\n",
    "    add = a + b\n",
    "    multiple = a*b\n",
    "    sqa = a**2\n",
    "    sqb = b**2 \n",
    "    print(f\"a + b = {add}\")\n",
    "    print(f\"a * b = {multiple}\")\n",
    "    print(f\"a**2 = {sqa}\")\n",
    "    print(f\"b**2 = {sqb}\")\n",
    "\n",
    "calculate(2, 4)"
   ]
  },
  {
   "cell_type": "markdown",
   "metadata": {},
   "source": [
    "begin11"
   ]
  },
  {
   "cell_type": "code",
   "execution_count": 11,
   "metadata": {},
   "outputs": [
    {
     "name": "stdout",
     "output_type": "stream",
     "text": [
      "a + b = -46\n",
      "a * b = 88\n",
      "Pos a: 2\n",
      "Pos b: 44\n"
     ]
    }
   ],
   "source": [
    "def calculate(a, b):\n",
    "    add = a + b\n",
    "    multiple = a*b\n",
    "    if a>=0:\n",
    "        m = a\n",
    "    else:\n",
    "        m = -a\n",
    "\n",
    "    if b>=0:\n",
    "        mb = b\n",
    "    else:\n",
    "        mb = -b\n",
    " \n",
    "    print(f\"a + b = {add}\")\n",
    "    print(f\"a * b = {multiple}\")\n",
    "    print(f\"Pos a: {m}\")\n",
    "    print(f\"Pos b: {mb}\")\n",
    "\n",
    "calculate(-2, -44)"
   ]
  },
  {
   "cell_type": "markdown",
   "metadata": {},
   "source": [
    "begn12"
   ]
  },
  {
   "cell_type": "code",
   "execution_count": 12,
   "metadata": {},
   "outputs": [
    {
     "name": "stdout",
     "output_type": "stream",
     "text": [
      "Perimeter: 8.60555127546399\n",
      "c = 3.605551275463989\n"
     ]
    }
   ],
   "source": [
    "import math\n",
    "def triangle(a, b):\n",
    "    c = math.sqrt(a**2 + b**2)\n",
    "    p = a+b+c\n",
    "    print(f\"Perimeter: {p}\")\n",
    "    print(f\"c = {c}\")\n",
    "\n",
    "triangle(3, 2)"
   ]
  },
  {
   "cell_type": "markdown",
   "metadata": {},
   "source": [
    "begin13"
   ]
  },
  {
   "cell_type": "code",
   "execution_count": 13,
   "metadata": {},
   "outputs": [
    {
     "name": "stdout",
     "output_type": "stream",
     "text": [
      "S1 = 28.26\n",
      "S2 = 12.56\n",
      "S1 - S2 = 15.700000000000001\n"
     ]
    }
   ],
   "source": [
    "def twocircle(r1,r2):\n",
    "    pi = 3.14\n",
    "    s1 = pi*r1**2\n",
    "    s2 = pi*r2**2\n",
    "    if r1>r2:\n",
    "     s3 = s1 - s2\n",
    "    print(f\"S1 = {s1}\")\n",
    "    print(f\"S2 = {s2}\")\n",
    "    print(f\"S1 - S2 = {s3}\")\n",
    "\n",
    "twocircle(3, 2)"
   ]
  },
  {
   "cell_type": "markdown",
   "metadata": {},
   "source": [
    "begin14"
   ]
  },
  {
   "cell_type": "code",
   "execution_count": 14,
   "metadata": {},
   "outputs": [
    {
     "name": "stdout",
     "output_type": "stream",
     "text": [
      "S = 1114.529184\n",
      "r = 18.84\n"
     ]
    }
   ],
   "source": [
    "def ccc(l):\n",
    "    pi = 3.14\n",
    "    r = l/2*pi\n",
    "    s = pi*r**2\n",
    "    print(f\"S = {s}\")\n",
    "    print(f\"r = {r}\")\n",
    "\n",
    "ccc(12)"
   ]
  },
  {
   "cell_type": "markdown",
   "metadata": {},
   "source": [
    "begin15"
   ]
  },
  {
   "cell_type": "code",
   "execution_count": 15,
   "metadata": {},
   "outputs": [
    {
     "name": "stdout",
     "output_type": "stream",
     "text": [
      "R = 3.385995887898602\n",
      "d = 6.771991775797204\n"
     ]
    }
   ],
   "source": [
    "import math\n",
    "def cc(s):\n",
    "    pi = 3.14\n",
    "    r = math.sqrt(s/pi)\n",
    "    d = 2*r\n",
    "    print(f\"R = {r}\")\n",
    "    print(f\"d = {d}\")\n",
    "\n",
    "cc(36)"
   ]
  },
  {
   "cell_type": "markdown",
   "metadata": {},
   "source": [
    "begin16"
   ]
  },
  {
   "cell_type": "code",
   "execution_count": 16,
   "metadata": {},
   "outputs": [
    {
     "data": {
      "text/plain": [
       "18"
      ]
     },
     "execution_count": 16,
     "metadata": {},
     "output_type": "execute_result"
    }
   ],
   "source": [
    "def dis(a, b):\n",
    "    distance = a - b\n",
    "    if distance>=0:\n",
    "        return distance\n",
    "    else:\n",
    "        return -distance\n",
    "    \n",
    "    \n",
    "dis(-9, 9)"
   ]
  },
  {
   "cell_type": "markdown",
   "metadata": {},
   "source": [
    "begin17"
   ]
  },
  {
   "cell_type": "code",
   "execution_count": 17,
   "metadata": {},
   "outputs": [
    {
     "name": "stdout",
     "output_type": "stream",
     "text": [
      "AC = 7\n",
      "BC = 3\n",
      "AC + BC = 10\n"
     ]
    },
    {
     "data": {
      "text/plain": [
       "(7, 3, 10)"
      ]
     },
     "execution_count": 17,
     "metadata": {},
     "output_type": "execute_result"
    }
   ],
   "source": [
    "def ABC(A, B, C):\n",
    "    AC = abs(A - C)\n",
    "    BC = abs(B - C)\n",
    "    add = AC + BC\n",
    "    print(f\"AC = {AC}\")\n",
    "    print(f\"BC = {BC}\")\n",
    "    print(f\"AC + BC = {add}\")\n",
    "    return AC, BC, add\n",
    "\n",
    "ABC(-3, -7, -10)\n"
   ]
  },
  {
   "cell_type": "markdown",
   "metadata": {},
   "source": [
    "begin18"
   ]
  },
  {
   "cell_type": "code",
   "execution_count": 18,
   "metadata": {},
   "outputs": [
    {
     "name": "stdout",
     "output_type": "stream",
     "text": [
      "AC = 7\n",
      "BC = 3\n",
      "AC * BC = 21\n"
     ]
    },
    {
     "data": {
      "text/plain": [
       "(7, 3, 21)"
      ]
     },
     "execution_count": 18,
     "metadata": {},
     "output_type": "execute_result"
    }
   ],
   "source": [
    "def ABC(A, B, C):\n",
    "    AC = abs(A - C)\n",
    "    BC = abs(B - C)\n",
    "    multiple = AC * BC\n",
    "    print(f\"AC = {AC}\")\n",
    "    print(f\"BC = {BC}\")\n",
    "    print(f\"AC * BC = {multiple}\")\n",
    "    return AC, BC, multiple\n",
    "\n",
    "ABC(-3, -7, -10)\n"
   ]
  },
  {
   "cell_type": "markdown",
   "metadata": {},
   "source": [
    "begin19"
   ]
  },
  {
   "cell_type": "code",
   "execution_count": 19,
   "metadata": {},
   "outputs": [
    {
     "name": "stdout",
     "output_type": "stream",
     "text": [
      "Perimeter = 34\n",
      "Area = 70\n"
     ]
    }
   ],
   "source": [
    "def rect(x1, y1, x2, y2):\n",
    "    a = abs(x2 - x1)\n",
    "    b = abs(y2 - y1)\n",
    "\n",
    "    p = 2*(a+b)\n",
    "    s = a*b\n",
    "\n",
    "    print(f\"Perimeter = {p}\")\n",
    "    print(f\"Area = {s}\")\n",
    "\n",
    "rect(3, 5, -4, -5)"
   ]
  },
  {
   "cell_type": "markdown",
   "metadata": {},
   "source": [
    "begin20"
   ]
  },
  {
   "cell_type": "code",
   "execution_count": 20,
   "metadata": {},
   "outputs": [
    {
     "name": "stdout",
     "output_type": "stream",
     "text": [
      "Distance between two vectors: 2.8284271247461903\n"
     ]
    }
   ],
   "source": [
    "import math\n",
    "\n",
    "def vector(x1, y1, x2, y2):\n",
    "    dis = math.sqrt((x1-x2)**2 + (y1-y2)**2)\n",
    "\n",
    "    print(f\"Distance between two vectors: {dis}\")\n",
    "\n",
    "vector(3, 4, 5, 6)"
   ]
  },
  {
   "cell_type": "markdown",
   "metadata": {},
   "source": [
    "begin21"
   ]
  },
  {
   "cell_type": "code",
   "execution_count": 21,
   "metadata": {},
   "outputs": [
    {
     "name": "stdout",
     "output_type": "stream",
     "text": [
      "Area: 0.0\n",
      "Perimeter 11.313708498984761\n"
     ]
    }
   ],
   "source": [
    "def triangle_vector(x1, y1, x2, y2, x3, y3):\n",
    "    a = math.sqrt((x1-x2)**2 + (y1-y2)**2)\n",
    "    b = math.sqrt((x1-x3)**2 + (y1 - y3)**2)\n",
    "    c = math.sqrt((x2-x3)**2 + (y2-y3)**2)\n",
    "    s = (a+b+c)/2\n",
    "    area = math.sqrt(s*(s-a)*(s-b)*(s-c))\n",
    "    perimeter = a + b + c\n",
    "    print(f\"Area: {area}\")\n",
    "    print(f\"Perimeter {perimeter}\")\n",
    "    \n",
    "\n",
    "triangle_vector(1,2,3,4,5,6)"
   ]
  },
  {
   "cell_type": "markdown",
   "metadata": {},
   "source": [
    "begin22"
   ]
  },
  {
   "cell_type": "code",
   "execution_count": 22,
   "metadata": {},
   "outputs": [
    {
     "name": "stdout",
     "output_type": "stream",
     "text": [
      "New value of A: 6\n",
      "New value of B: 5\n"
     ]
    }
   ],
   "source": [
    "def exchange(A, B):\n",
    "    A, B = B, A\n",
    "\n",
    "    print(f\"New value of A: {A}\")\n",
    "    print(f\"New value of B: {B}\")\n",
    "\n",
    "exchange(5, 6)"
   ]
  },
  {
   "cell_type": "markdown",
   "metadata": {},
   "source": [
    "begin23"
   ]
  },
  {
   "cell_type": "code",
   "execution_count": 23,
   "metadata": {},
   "outputs": [
    {
     "name": "stdout",
     "output_type": "stream",
     "text": [
      "New value of A: 4\n",
      "New value of B: 5\n",
      "New value of C: 3\n"
     ]
    }
   ],
   "source": [
    "def exchange3(A, B, C):\n",
    "    A, B, C = B, C, A\n",
    "\n",
    "    print(f\"New value of A: {A}\")\n",
    "    print(f\"New value of B: {B}\")\n",
    "    print(f\"New value of C: {C}\")\n",
    "\n",
    "exchange3(3, 4, 5)"
   ]
  },
  {
   "cell_type": "markdown",
   "metadata": {},
   "source": [
    "begin24"
   ]
  },
  {
   "cell_type": "code",
   "execution_count": 24,
   "metadata": {},
   "outputs": [
    {
     "name": "stdout",
     "output_type": "stream",
     "text": [
      "New value of A: 5\n",
      "New value of B: 3\n",
      "New value of C: 4\n"
     ]
    }
   ],
   "source": [
    "def exchange4(A, B, C):\n",
    "    A, B , C = C, A, B\n",
    "\n",
    "    print(f\"New value of A: {A}\")\n",
    "    print(f\"New value of B: {B}\")\n",
    "    print(f\"New value of C: {C}\")\n",
    "\n",
    "exchange4(3, 4, 5)\n"
   ]
  },
  {
   "cell_type": "markdown",
   "metadata": {},
   "source": [
    "begin25"
   ]
  },
  {
   "cell_type": "code",
   "execution_count": 25,
   "metadata": {},
   "outputs": [
    {
     "name": "stdout",
     "output_type": "stream",
     "text": [
      "y = 444104486\n"
     ]
    }
   ],
   "source": [
    "def xs(x):\n",
    "    y = 3*x**6-6*x**2-7\n",
    "\n",
    "    print(f\"y = {y}\")\n",
    "\n",
    "xs(23)"
   ]
  },
  {
   "cell_type": "markdown",
   "metadata": {},
   "source": [
    "begin26"
   ]
  },
  {
   "cell_type": "code",
   "execution_count": 26,
   "metadata": {},
   "outputs": [
    {
     "name": "stdout",
     "output_type": "stream",
     "text": [
      "y = 61627\n"
     ]
    }
   ],
   "source": [
    "def xr(x):\n",
    "    y = 4*(x-3)**6-7*(x-3)**3+2\n",
    "\n",
    "    print(f\"y = {y}\")\n",
    "\n",
    "xr(8)"
   ]
  },
  {
   "cell_type": "markdown",
   "metadata": {},
   "source": [
    "begin27"
   ]
  },
  {
   "cell_type": "code",
   "execution_count": 27,
   "metadata": {},
   "outputs": [
    {
     "name": "stdout",
     "output_type": "stream",
     "text": [
      "A**8 = 8989320386052055296\n",
      "A**4 = 2998219536\n",
      "A**2 = 54756\n"
     ]
    }
   ],
   "source": [
    "def A(A):\n",
    "    a2 = A**2\n",
    "    a4 = A**4\n",
    "    a8 = A**8\n",
    "    print(f\"A**8 = {a8}\")\n",
    "    print(f\"A**4 = {a4}\")\n",
    "    print(f\"A**2 = {a2}\")\n",
    "\n",
    "A(234)"
   ]
  },
  {
   "cell_type": "markdown",
   "metadata": {},
   "source": [
    "begin28"
   ]
  },
  {
   "cell_type": "code",
   "execution_count": 28,
   "metadata": {},
   "outputs": [
    {
     "name": "stdout",
     "output_type": "stream",
     "text": [
      "A**3 = 64\n",
      "A**5 = 1024\n",
      "A**2 = 16\n",
      "A**10 = 1048576\n",
      "A**15 = 1073741824\n"
     ]
    }
   ],
   "source": [
    "def AA(A):\n",
    "    a2 = A**2\n",
    "    a3 = A**3\n",
    "    a5 = A**5\n",
    "    a10 = A**10\n",
    "    a15 = A**15\n",
    "\n",
    "    print(f\"A**3 = {a3}\")\n",
    "    print(f\"A**5 = {a5}\")\n",
    "    print(f\"A**2 = {a2}\")\n",
    "    print(f\"A**10 = {a10}\")\n",
    "    print(f\"A**15 = {a15}\")\n",
    "\n",
    "AA(4)"
   ]
  },
  {
   "cell_type": "markdown",
   "metadata": {},
   "source": [
    "begin29"
   ]
  },
  {
   "cell_type": "code",
   "execution_count": 29,
   "metadata": {},
   "outputs": [
    {
     "name": "stdout",
     "output_type": "stream",
     "text": [
      "Value of Radian: 0.5235987755982988\n"
     ]
    }
   ],
   "source": [
    "import math\n",
    "\n",
    "def cr(a):\n",
    "\n",
    "    rd = a * (math.pi / 180)\n",
    "\n",
    "    print(f\"Value of Radian: {rd}\")\n",
    "\n",
    "cr(30)"
   ]
  },
  {
   "cell_type": "markdown",
   "metadata": {},
   "source": [
    "begin30"
   ]
  },
  {
   "cell_type": "code",
   "execution_count": 30,
   "metadata": {},
   "outputs": [
    {
     "name": "stdout",
     "output_type": "stream",
     "text": [
      "Angle of the radian: 57.29577951308232\n"
     ]
    }
   ],
   "source": [
    "def rd(r):\n",
    "    a = (180 * r)/math.pi\n",
    "    print(f\"Angle of the radian: {a}\")\n",
    "\n",
    "rd(1)"
   ]
  },
  {
   "cell_type": "markdown",
   "metadata": {},
   "source": [
    "begin31"
   ]
  },
  {
   "cell_type": "code",
   "execution_count": 31,
   "metadata": {},
   "outputs": [
    {
     "name": "stdout",
     "output_type": "stream",
     "text": [
      "30F = -1.1111111111111112C\n"
     ]
    }
   ],
   "source": [
    "def temp(F):\n",
    "    C = (F - 32) * 5/9\n",
    "\n",
    "    print(f\"{F}F = {C}C\")\n",
    "\n",
    "temp(30)"
   ]
  },
  {
   "cell_type": "markdown",
   "metadata": {},
   "source": [
    "begin32"
   ]
  },
  {
   "cell_type": "code",
   "execution_count": 32,
   "metadata": {},
   "outputs": [
    {
     "name": "stdout",
     "output_type": "stream",
     "text": [
      "30F = -1.1111111111111112C\n"
     ]
    }
   ],
   "source": [
    "def temp(F):\n",
    "    C = (F - 32) * 5/9\n",
    "\n",
    "    print(f\"{F}F = {C}C\")\n",
    "\n",
    "temp(30)"
   ]
  },
  {
   "cell_type": "markdown",
   "metadata": {},
   "source": [
    "begin33"
   ]
  },
  {
   "cell_type": "code",
   "execution_count": 33,
   "metadata": {},
   "outputs": [
    {
     "name": "stdout",
     "output_type": "stream",
     "text": [
      "The price of 1 kg candy is: 100\n",
      "The price of 5kg candy is: 500\n"
     ]
    }
   ],
   "source": [
    "def candyshop(A, Y):\n",
    "    price = A*Y\n",
    "    kg1 = A\n",
    "    print(f\"The price of 1 kg candy is: {kg1}\")\n",
    "    print(f\"The price of {Y}kg candy is: {price}\")\n",
    "\n",
    "candyshop(100, 5)"
   ]
  },
  {
   "cell_type": "markdown",
   "metadata": {},
   "source": [
    "begin34"
   ]
  },
  {
   "cell_type": "code",
   "execution_count": 34,
   "metadata": {},
   "outputs": [
    {
     "name": "stdout",
     "output_type": "stream",
     "text": [
      "The difference between two chocolayes is: -100.0\n"
     ]
    }
   ],
   "source": [
    "def candyshop2(X, A, Y, B):\n",
    "    first_price = A/X\n",
    "    seconf_price = B/Y\n",
    "\n",
    "    pr_dif = first_price-seconf_price\n",
    "\n",
    "    print(f\"The difference between two chocolayes is: {pr_dif}\")\n",
    "\n",
    "candyshop2(2, 400, 3, 900)\n"
   ]
  },
  {
   "cell_type": "markdown",
   "metadata": {},
   "source": [
    "begin35"
   ]
  },
  {
   "cell_type": "code",
   "execution_count": 35,
   "metadata": {},
   "outputs": [
    {
     "name": "stdout",
     "output_type": "stream",
     "text": [
      "First space: 2500\n",
      "Second space: 750\n"
     ]
    }
   ],
   "source": [
    "def boat(V, U, T1, T2):\n",
    "    S1 = (V + U)*T1\n",
    "    S2 = (V -U)*T2\n",
    "    print(f\"First space: {S1}\")\n",
    "    print(f\"Second space: {S2}\")\n",
    "\n",
    "boat(20, 5, 100, 50) "
   ]
  },
  {
   "cell_type": "markdown",
   "metadata": {},
   "source": [
    "begin36"
   ]
  },
  {
   "cell_type": "code",
   "execution_count": 36,
   "metadata": {},
   "outputs": [
    {
     "name": "stdout",
     "output_type": "stream",
     "text": [
      "The distance between two cars after 4 hours is: 710\n"
     ]
    }
   ],
   "source": [
    "def distance_cars(V1, V2, S, T):\n",
    "\n",
    "    S2 = S + (V1 + V2)*T\n",
    "\n",
    "    print(f\"The distance between two cars after {T} hours is: {S2}\")\n",
    "\n",
    "distance_cars(70, 100, 30,4 )"
   ]
  },
  {
   "cell_type": "markdown",
   "metadata": {},
   "source": [
    "begin37"
   ]
  },
  {
   "cell_type": "code",
   "execution_count": 37,
   "metadata": {},
   "outputs": [
    {
     "name": "stdout",
     "output_type": "stream",
     "text": [
      "The distance between two cars after 2 hours is: 0\n"
     ]
    }
   ],
   "source": [
    "def time_car(V1, V2, S, T):\n",
    "\n",
    "    S2 = S - (V1 + V2)*T\n",
    "\n",
    "    print(f\"The distance between two cars after {T} hours is: {S2}\")\n",
    "\n",
    "time_car(20, 30, 100, 2)\n"
   ]
  },
  {
   "cell_type": "markdown",
   "metadata": {},
   "source": [
    "begin38"
   ]
  },
  {
   "cell_type": "code",
   "execution_count": 38,
   "metadata": {},
   "outputs": [
    {
     "name": "stdout",
     "output_type": "stream",
     "text": [
      "x = 2.0\n"
     ]
    }
   ],
   "source": [
    "def AB(A, B):\n",
    "    x = B/A\n",
    "    print(f\"x = {x}\")\n",
    "\n",
    "AB(9, 18)"
   ]
  },
  {
   "cell_type": "markdown",
   "metadata": {},
   "source": [
    "begin39"
   ]
  },
  {
   "cell_type": "code",
   "execution_count": 39,
   "metadata": {},
   "outputs": [
    {
     "data": {
      "text/plain": [
       "'There is no x'"
      ]
     },
     "execution_count": 39,
     "metadata": {},
     "output_type": "execute_result"
    }
   ],
   "source": [
    "import math\n",
    "\n",
    "def q(A, B, C):\n",
    "    \n",
    "    D = B**2 - 4*A*C\n",
    "    if D>0:\n",
    "        x1 = (-B + math.sqrt(D))/(2*A)\n",
    "        x2 = (-B - math.sqrt(D))/(2*A)\n",
    "        print(f\"x1 = {x1}\")\n",
    "        print(f\"x2 = {x2}\")\n",
    "    else:\n",
    "        return \"There is no x\"\n",
    "    \n",
    "q(9, 10, 18)\n",
    "    \n"
   ]
  },
  {
   "cell_type": "markdown",
   "metadata": {},
   "source": [
    "begin40"
   ]
  },
  {
   "cell_type": "code",
   "execution_count": 40,
   "metadata": {},
   "outputs": [
    {
     "name": "stdout",
     "output_type": "stream",
     "text": [
      "x = -1.0\n",
      "y = 2.0\n"
     ]
    }
   ],
   "source": [
    "def system(A1, B1, C1, A2, B2, C2):\n",
    "    D = A1*B2 - A2*B1\n",
    "\n",
    "    if D != 0:\n",
    "        x = (C1 * B2 - C2 * B1)/D\n",
    "        y = (A1*C2 - A2*C1)/D\n",
    "        print(f\"x = {x}\")\n",
    "        print(f\"y = {y}\")\n",
    "    else:\n",
    "        print(\"D = 0\")\n",
    "\n",
    "system(3,4,5,6,7,8)"
   ]
  }
 ],
 "metadata": {
  "kernelspec": {
   "display_name": "Python 3",
   "language": "python",
   "name": "python3"
  },
  "language_info": {
   "codemirror_mode": {
    "name": "ipython",
    "version": 3
   },
   "file_extension": ".py",
   "mimetype": "text/x-python",
   "name": "python",
   "nbconvert_exporter": "python",
   "pygments_lexer": "ipython3",
   "version": "3.12.6"
  }
 },
 "nbformat": 4,
 "nbformat_minor": 2
}

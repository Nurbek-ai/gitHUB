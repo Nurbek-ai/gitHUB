{
 "cells": [
  {
   "cell_type": "markdown",
   "metadata": {},
   "source": [
    "<font size=\"5\" color=\"blue\">List Tasks</font>"
   ]
  },
  {
   "cell_type": "markdown",
   "metadata": {},
   "source": [
    "1. Count Occurrences: Given a list and an element, find how many times the element appears in the list."
   ]
  },
  {
   "cell_type": "code",
   "execution_count": 1,
   "metadata": {},
   "outputs": [
    {
     "name": "stdout",
     "output_type": "stream",
     "text": [
      "The 2 appears 2 times\n"
     ]
    }
   ],
   "source": [
    "def counts(the_list, the_element):\n",
    "    cnt = the_list.count(the_element)\n",
    "    print(f\"The {the_element} appears {cnt} times\")\n",
    "\n",
    "counts([1, 2, 3, 4, 2, 3, 4], 2)"
   ]
  },
  {
   "cell_type": "markdown",
   "metadata": {},
   "source": [
    "2. Sum of Elements: Given a list of numbers, calculate the total of all the elements."
   ]
  },
  {
   "cell_type": "code",
   "execution_count": 3,
   "metadata": {},
   "outputs": [
    {
     "name": "stdout",
     "output_type": "stream",
     "text": [
      "The sum of these numbers is 19\n"
     ]
    }
   ],
   "source": [
    "def total(ls):\n",
    "    sums = sum(ls)\n",
    "    print(f\"The sum of these numbers is {sums}\")\n",
    "\n",
    "total([1, 2, 3, 4, 2, 3, 4])"
   ]
  },
  {
   "cell_type": "markdown",
   "metadata": {},
   "source": [
    "3. Max Element: From a given list, determine the largest element.\n"
   ]
  },
  {
   "cell_type": "code",
   "execution_count": 5,
   "metadata": {},
   "outputs": [
    {
     "name": "stdout",
     "output_type": "stream",
     "text": [
      "The largest element is 78\n"
     ]
    }
   ],
   "source": [
    "def largest(ls):\n",
    "    maxi = max(ls)\n",
    "    print(f\"The largest element is {maxi}\")\n",
    "\n",
    "largest([3, 78, 2])"
   ]
  },
  {
   "cell_type": "markdown",
   "metadata": {},
   "source": [
    "4. Min Element: From a given list, determine the smallest element.\n"
   ]
  },
  {
   "cell_type": "code",
   "execution_count": 6,
   "metadata": {},
   "outputs": [
    {
     "name": "stdout",
     "output_type": "stream",
     "text": [
      "The smallest element is 2\n"
     ]
    }
   ],
   "source": [
    "def smallest(ls):\n",
    "    mini = min(ls)\n",
    "    print(f\"The smallest element is {mini}\")\n",
    "\n",
    "smallest([3, 78, 2])"
   ]
  },
  {
   "cell_type": "markdown",
   "metadata": {},
   "source": [
    "5. Check Element: Given a list and an element, check if the element is present in the list.\n"
   ]
  },
  {
   "cell_type": "code",
   "execution_count": 7,
   "metadata": {},
   "outputs": [
    {
     "name": "stdout",
     "output_type": "stream",
     "text": [
      "The 89 is present in list\n"
     ]
    }
   ],
   "source": [
    "def pr(ls, element):\n",
    "    if element in ls:\n",
    "        print(f\"The {element} is present in list\")\n",
    "    else:\n",
    "        print(f\"The {element} was not found\")\n",
    "\n",
    "pr([2, 3, 4, 89], 89)"
   ]
  },
  {
   "cell_type": "markdown",
   "metadata": {},
   "source": [
    "6. First Element: Access the first element of a list, considering what to return if the list is empty.\n"
   ]
  },
  {
   "cell_type": "code",
   "execution_count": 23,
   "metadata": {},
   "outputs": [],
   "source": [
    "def first_element(ls):\n",
    "    if ls:\n",
    "        return ls[0]\n",
    "    else:\n",
    "        return None  \n",
    "\n",
    "print(first_element([1, 2, 3])) \n",
    "print(first_element([]))"
   ]
  },
  {
   "cell_type": "markdown",
   "metadata": {},
   "source": [
    "7. Last Element: Access the last element of a list, considering what to return if the list is empty.\n"
   ]
  },
  {
   "cell_type": "code",
   "execution_count": 24,
   "metadata": {},
   "outputs": [
    {
     "name": "stdout",
     "output_type": "stream",
     "text": [
      "3\n",
      "None\n"
     ]
    }
   ],
   "source": [
    "def last_element(ls):\n",
    "    if ls:\n",
    "        return ls[-1]\n",
    "    else:\n",
    "        return None  \n",
    "\n",
    "print(last_element([1, 2, 3]))  \n",
    "print(last_element([]))"
   ]
  },
  {
   "cell_type": "markdown",
   "metadata": {},
   "source": [
    "8. Slice List: Create a new list that contains only the first three elements of the original list.\n"
   ]
  },
  {
   "cell_type": "code",
   "execution_count": 25,
   "metadata": {},
   "outputs": [
    {
     "name": "stdout",
     "output_type": "stream",
     "text": [
      "First three elements are [1, 2, 3]\n"
     ]
    }
   ],
   "source": [
    "def three(ls):\n",
    "    ls2 = ls[0:3]\n",
    "    print(f\"First three elements are {ls2}\")\n",
    "\n",
    "three([1,2,3,4])"
   ]
  },
  {
   "cell_type": "markdown",
   "metadata": {},
   "source": [
    "9. Reverse List: Create a new list that contains the elements of the original list in reverse order.\n"
   ]
  },
  {
   "cell_type": "code",
   "execution_count": 26,
   "metadata": {},
   "outputs": [
    {
     "name": "stdout",
     "output_type": "stream",
     "text": [
      "The reverse order of the original list is ['Salom', 'Xayir']\n"
     ]
    }
   ],
   "source": [
    "def reverse(ls):\n",
    "    ls2 = ls[::-1]\n",
    "    print(f\"The reverse order of the original list is {ls2}\")\n",
    "\n",
    "reverse([\"Xayir\", \"Salom\"])"
   ]
  },
  {
   "cell_type": "markdown",
   "metadata": {},
   "source": [
    "10. Sort List: Create a new list that contains the elements of the original list in sorted order.\n"
   ]
  },
  {
   "cell_type": "code",
   "execution_count": 27,
   "metadata": {},
   "outputs": [
    {
     "name": "stdout",
     "output_type": "stream",
     "text": [
      "The sorted order of the list is [3, 7, 8, 23, 34]\n"
     ]
    }
   ],
   "source": [
    "def sorting(ls):\n",
    "    ls1 = sorted(ls)\n",
    "    print(f\"The sorted order of the list is {ls1}\")\n",
    "\n",
    "sorting([3, 7, 8, 34, 23])"
   ]
  },
  {
   "cell_type": "markdown",
   "metadata": {},
   "source": [
    "11. Remove Duplicates: Given a list, create a new list that contains only unique elements from the original list."
   ]
  },
  {
   "cell_type": "code",
   "execution_count": 30,
   "metadata": {},
   "outputs": [
    {
     "name": "stdout",
     "output_type": "stream",
     "text": [
      "[1, 2, 3]\n"
     ]
    }
   ],
   "source": [
    "def no_dub(ls):\n",
    "    ls1 = list(set(ls))\n",
    "    print(ls1)\n",
    "\n",
    "no_dub([1, 1, 2, 2, 3])"
   ]
  },
  {
   "cell_type": "markdown",
   "metadata": {},
   "source": [
    "12. Insert Element: Given a list and an element, insert the element at a specified index.\n"
   ]
  },
  {
   "cell_type": "code",
   "execution_count": 29,
   "metadata": {},
   "outputs": [
    {
     "name": "stdout",
     "output_type": "stream",
     "text": [
      "[0, 1, 2, 3]\n"
     ]
    }
   ],
   "source": [
    "def inserting(ls, x, y):\n",
    "    ls.insert(x, y)\n",
    "    print(ls)\n",
    "\n",
    "inserting([0, 2, 3], 1, 1) \n"
   ]
  },
  {
   "cell_type": "markdown",
   "metadata": {},
   "source": [
    "13. Index of Element: Given a list and an element, find the index of the first occurrence of the element.\n"
   ]
  },
  {
   "cell_type": "code",
   "execution_count": 32,
   "metadata": {},
   "outputs": [
    {
     "name": "stdout",
     "output_type": "stream",
     "text": [
      "2\n"
     ]
    }
   ],
   "source": [
    "def ind(ls, element):\n",
    "    ind = ls.index(element)\n",
    "    print(ind)\n",
    "\n",
    "ind([1, 2, 3], 3)"
   ]
  },
  {
   "cell_type": "markdown",
   "metadata": {},
   "source": [
    "14. Check for Empty List: Determine if a list is empty and return a boolean.\n"
   ]
  },
  {
   "cell_type": "code",
   "execution_count": 33,
   "metadata": {},
   "outputs": [
    {
     "data": {
      "text/plain": [
       "False"
      ]
     },
     "execution_count": 33,
     "metadata": {},
     "output_type": "execute_result"
    }
   ],
   "source": [
    "def checking(ls):\n",
    "    empty_list = []\n",
    "    if ls == empty_list:\n",
    "        return False\n",
    "    else:\n",
    "        return True\n",
    "    \n",
    "checking([        ])"
   ]
  },
  {
   "cell_type": "markdown",
   "metadata": {},
   "source": [
    "15. Count Even Numbers: Given a list of integers, count how many of them are even.\n"
   ]
  },
  {
   "cell_type": "code",
   "execution_count": 35,
   "metadata": {},
   "outputs": [
    {
     "data": {
      "text/plain": [
       "[2, 4]"
      ]
     },
     "execution_count": 35,
     "metadata": {},
     "output_type": "execute_result"
    }
   ],
   "source": [
    "def even(ls):\n",
    "    ls = [i for i in ls if i % 2 == 0]\n",
    "    return ls\n",
    "\n",
    "even([2, 3, 4])"
   ]
  },
  {
   "cell_type": "markdown",
   "metadata": {},
   "source": [
    "16. Count Odd Numbers: Given a list of integers, count how many of them are odd.\n"
   ]
  },
  {
   "cell_type": "code",
   "execution_count": 38,
   "metadata": {},
   "outputs": [
    {
     "name": "stdout",
     "output_type": "stream",
     "text": [
      "2\n"
     ]
    }
   ],
   "source": [
    "def odd(ls):\n",
    "    ls = [i for i in ls if i % 2 == 1]  \n",
    "    count_odd = len(ls) \n",
    "    return count_odd\n",
    "\n",
    "print(odd([3, 4, 5]))\n"
   ]
  },
  {
   "cell_type": "markdown",
   "metadata": {},
   "source": [
    "17. Concatenate Lists: Given two lists, create a new list that combines both lists.\n"
   ]
  },
  {
   "cell_type": "code",
   "execution_count": 39,
   "metadata": {},
   "outputs": [
    {
     "name": "stdout",
     "output_type": "stream",
     "text": [
      "[2, 4, 4, 5, 6]\n"
     ]
    }
   ],
   "source": [
    "def combining(ls1, ls2):\n",
    "    ls3 = ls1 + ls2\n",
    "    print(ls3)\n",
    "\n",
    "combining([2, 4], [4, 5, 6])"
   ]
  },
  {
   "cell_type": "markdown",
   "metadata": {},
   "source": [
    "18. Find Sublist: Given a list and a sublist, check if the sublist exists within the list.\n"
   ]
  },
  {
   "cell_type": "code",
   "execution_count": 40,
   "metadata": {},
   "outputs": [
    {
     "name": "stdout",
     "output_type": "stream",
     "text": [
      "True\n"
     ]
    }
   ],
   "source": [
    "def is_sublist(lst, sub_lst):\n",
    "    lst_str = ''.join(map(str, lst))\n",
    "    sub_lst_str = ''.join(map(str, sub_lst))\n",
    "    return sub_lst_str in lst_str\n",
    "\n",
    "print(is_sublist([1, 2, 3, 4, 5], [4, 5])) \n"
   ]
  },
  {
   "cell_type": "markdown",
   "metadata": {},
   "source": [
    "19. Replace Element: Given a list, replace the first occurrence of a specified element with another element.\n"
   ]
  },
  {
   "cell_type": "code",
   "execution_count": 41,
   "metadata": {},
   "outputs": [
    {
     "name": "stdout",
     "output_type": "stream",
     "text": [
      "[4, 2, 3]\n"
     ]
    }
   ],
   "source": [
    "def rep(ls, element):\n",
    "    ls[0] = element\n",
    "    print(ls)\n",
    "\n",
    "rep([1, 2, 3,], 4)"
   ]
  },
  {
   "cell_type": "markdown",
   "metadata": {},
   "source": [
    "20. Find Second Largest: From a given list, find the second largest element.\n"
   ]
  },
  {
   "cell_type": "code",
   "execution_count": 42,
   "metadata": {},
   "outputs": [
    {
     "data": {
      "text/plain": [
       "28239"
      ]
     },
     "execution_count": 42,
     "metadata": {},
     "output_type": "execute_result"
    }
   ],
   "source": [
    "def sec_larg(ls):\n",
    "    sorting = sorted(ls)\n",
    "    largest2 = sorting[-2]\n",
    "    return largest2\n",
    "\n",
    "sec_larg([99,192,38829, 28239])"
   ]
  },
  {
   "cell_type": "markdown",
   "metadata": {},
   "source": [
    "21. Find Second Smallest: From a given list, find the second smallest element."
   ]
  },
  {
   "cell_type": "code",
   "execution_count": 46,
   "metadata": {},
   "outputs": [
    {
     "data": {
      "text/plain": [
       "2"
      ]
     },
     "execution_count": 46,
     "metadata": {},
     "output_type": "execute_result"
    }
   ],
   "source": [
    "def sec_smal(ls):\n",
    "    sorting = sorted(ls)\n",
    "    smallest2 = sorting[1]\n",
    "    return smallest2\n",
    "\n",
    "sec_smal([2, 0,3])"
   ]
  },
  {
   "cell_type": "markdown",
   "metadata": {},
   "source": [
    "22. Filter Even Numbers: Given a list of integers, create a new list that contains only the even numbers.\n"
   ]
  },
  {
   "cell_type": "code",
   "execution_count": 57,
   "metadata": {},
   "outputs": [
    {
     "data": {
      "text/plain": [
       "[2, 4]"
      ]
     },
     "execution_count": 57,
     "metadata": {},
     "output_type": "execute_result"
    }
   ],
   "source": [
    "def even(ls):\n",
    "    ls = [i for i in ls if i % 2 == 0]\n",
    "    return ls\n",
    "\n",
    "even([2, 3, 4])"
   ]
  },
  {
   "cell_type": "markdown",
   "metadata": {},
   "source": [
    "23. Filter Odd Numbers: Given a list of integers, create a new list that contains only the odd numbers.\n"
   ]
  },
  {
   "cell_type": "code",
   "execution_count": 48,
   "metadata": {},
   "outputs": [
    {
     "data": {
      "text/plain": [
       "[3]"
      ]
     },
     "execution_count": 48,
     "metadata": {},
     "output_type": "execute_result"
    }
   ],
   "source": [
    "def odds(ls):\n",
    "    ls = [i for i in ls if i % 2 == 1]\n",
    "    return ls\n",
    "\n",
    "odds([2, 3, 4])"
   ]
  },
  {
   "cell_type": "markdown",
   "metadata": {},
   "source": [
    "24. List Length: Determine the number of elements in the list.\n"
   ]
  },
  {
   "cell_type": "code",
   "execution_count": 61,
   "metadata": {},
   "outputs": [
    {
     "name": "stdout",
     "output_type": "stream",
     "text": [
      "5\n"
     ]
    }
   ],
   "source": [
    "def count_elements(lst):\n",
    "    count = 0\n",
    "    for element in lst:\n",
    "        count += 1\n",
    "    return count\n",
    "\n",
    "\n",
    "print(count_elements([1, 2, 3, 4, 5]))\n"
   ]
  },
  {
   "cell_type": "markdown",
   "metadata": {},
   "source": [
    "25. Create a Copy: Create a new list that is a copy of the original list.\n"
   ]
  },
  {
   "cell_type": "code",
   "execution_count": 62,
   "metadata": {},
   "outputs": [
    {
     "data": {
      "text/plain": [
       "[2, 3, 4]"
      ]
     },
     "execution_count": 62,
     "metadata": {},
     "output_type": "execute_result"
    }
   ],
   "source": [
    "def copying(ls):\n",
    "    a = ls.copy()\n",
    "    return a\n",
    "\n",
    "copying([2, 3, 4])"
   ]
  },
  {
   "cell_type": "markdown",
   "metadata": {},
   "source": [
    "26. Get Middle Element: Given a list, find the middle element. If the list has an even number of elements, return the two middle elements.\n"
   ]
  },
  {
   "cell_type": "code",
   "execution_count": null,
   "metadata": {},
   "outputs": [],
   "source": [
    "def get_middle_element(ls):\n",
    "    n = len(ls)\n",
    "    if n % 2 == 1:\n",
    "        middle_index = n // 2\n",
    "        return ls[middle_index]\n",
    "    else:\n",
    "        middle_index1 = (n // 2) - 1\n",
    "        middle_index2 = (n // 2)\n",
    "        return ls[middle_index1], ls[middle_index2]\n",
    "\n",
    "print(get_middle_element([1, 2, 3, 4, 5]))  \n",
    "print(get_middle_element([1, 2, 3, 4, 5, 6]))  \n"
   ]
  },
  {
   "cell_type": "markdown",
   "metadata": {},
   "source": [
    "27. Find Maximum of Sublist: Given a list, find the maximum element of a specified sublist.\n"
   ]
  },
  {
   "cell_type": "code",
   "execution_count": 66,
   "metadata": {},
   "outputs": [
    {
     "name": "stdout",
     "output_type": "stream",
     "text": [
      "3\n"
     ]
    }
   ],
   "source": [
    "def sublist(ls, x, y):\n",
    "    ls1 = ls[x:y]\n",
    "    maxi = max(ls1)\n",
    "    print(maxi)\n",
    "\n",
    "sublist([2, 3, 4, 5], 0, 2)"
   ]
  },
  {
   "cell_type": "markdown",
   "metadata": {},
   "source": [
    "28. Find Minimum of Sublist: Given a list, find the minimum element of a specified sublist.\n"
   ]
  },
  {
   "cell_type": "code",
   "execution_count": 65,
   "metadata": {},
   "outputs": [
    {
     "name": "stdout",
     "output_type": "stream",
     "text": [
      "2\n"
     ]
    }
   ],
   "source": [
    "def sublists(ls, x, y):\n",
    "    ls1 = ls[x:y]\n",
    "    mini = min(ls1)\n",
    "    print(mini)\n",
    "\n",
    "sublists([2, 3, 4, 5], 0, 2)"
   ]
  },
  {
   "cell_type": "markdown",
   "metadata": {},
   "source": [
    "29. Remove Element by Index: Given a list and an index, remove the element at that index if it exists.\n"
   ]
  },
  {
   "cell_type": "code",
   "execution_count": 68,
   "metadata": {},
   "outputs": [
    {
     "name": "stdout",
     "output_type": "stream",
     "text": [
      "[2, 3]\n"
     ]
    }
   ],
   "source": [
    "def removing(ls, x, y):\n",
    "    ls1 = ls[x:y]\n",
    "    for i in ls1:\n",
    "        ls.remove(i)\n",
    "    return ls\n",
    "\n",
    "print(removing([2, 3, 4, 6], 2, 4))  \n"
   ]
  },
  {
   "cell_type": "markdown",
   "metadata": {},
   "source": [
    "30. Check if List is Sorted: Determine if the list is sorted in ascending order and return a boolean.\n"
   ]
  },
  {
   "cell_type": "code",
   "execution_count": 73,
   "metadata": {},
   "outputs": [
    {
     "data": {
      "text/plain": [
       "True"
      ]
     },
     "execution_count": 73,
     "metadata": {},
     "output_type": "execute_result"
    }
   ],
   "source": [
    "def check(ls):\n",
    "    if ls == sorted(ls):\n",
    "       return True\n",
    "    else:\n",
    "        return False\n",
    "\n",
    "check([6, 5, 4])"
   ]
  },
  {
   "cell_type": "markdown",
   "metadata": {},
   "source": [
    "31. Repeat Elements: Given a list and a number, create a new list where each element is repeated that number of times."
   ]
  },
  {
   "cell_type": "code",
   "execution_count": 75,
   "metadata": {},
   "outputs": [
    {
     "data": {
      "text/plain": [
       "[3, 3, 4, 4, 5, 5]"
      ]
     },
     "execution_count": 75,
     "metadata": {},
     "output_type": "execute_result"
    }
   ],
   "source": [
    "def repeat(ls,x):\n",
    "    ls1 = []\n",
    "    for i in ls:\n",
    "        ls1.extend([i]*x)\n",
    "    return ls1\n",
    "    \n",
    "repeat([3, 4 ,5], 2)"
   ]
  },
  {
   "cell_type": "markdown",
   "metadata": {},
   "source": [
    "32. Merge and Sort: Given two lists, create a new sorted list that merges both lists.\n"
   ]
  },
  {
   "cell_type": "code",
   "execution_count": 76,
   "metadata": {},
   "outputs": [
    {
     "data": {
      "text/plain": [
       "[2, 3, 3, 4, 4, 5]"
      ]
     },
     "execution_count": 76,
     "metadata": {},
     "output_type": "execute_result"
    }
   ],
   "source": [
    "def merging(ls1, ls2):\n",
    "    ls3 = ls1 + ls2 \n",
    "    ls4 = sorted(ls3)\n",
    "    return ls4\n",
    "\n",
    "merging([2, 3, 4], [3, 4, 5])"
   ]
  },
  {
   "cell_type": "markdown",
   "metadata": {},
   "source": [
    "33. Find All Indices: Given a list and an element, find all the indices of that element in the list.\n"
   ]
  },
  {
   "cell_type": "code",
   "execution_count": 78,
   "metadata": {},
   "outputs": [
    {
     "name": "stdout",
     "output_type": "stream",
     "text": [
      "[2, 3]\n"
     ]
    }
   ],
   "source": [
    "def indices(ls, element):\n",
    "    index_list = [index for index, value in enumerate(ls) if value == element]\n",
    "    return index_list\n",
    "\n",
    "print(indices([2, 3, 4, 4, 2], 4))  \n"
   ]
  },
  {
   "cell_type": "markdown",
   "metadata": {},
   "source": [
    "34. Rotate List: Given a list, create a new list that is a rotated version of the original list (shift elements to the right).\n"
   ]
  },
  {
   "cell_type": "code",
   "execution_count": 85,
   "metadata": {},
   "outputs": [
    {
     "name": "stdout",
     "output_type": "stream",
     "text": [
      "[4, 5, 1, 2, 3]\n",
      "[4, 5, 1, 2, 3]\n"
     ]
    }
   ],
   "source": [
    "from collections import deque\n",
    "\n",
    "def rotate_list(lst, k):\n",
    "    dq = deque(lst)\n",
    "    dq.rotate(k)  \n",
    "    return list(dq)\n",
    "\n",
    "print(rotate_list([1, 2, 3, 4, 5], 2))  \n",
    "print(rotate_list([1, 2, 3, 4, 5], 7)) \n"
   ]
  },
  {
   "cell_type": "markdown",
   "metadata": {},
   "source": [
    "35. Create Range List: Create a list of numbers in a specified range (e.g., from 1 to 10).\n"
   ]
  },
  {
   "cell_type": "code",
   "execution_count": 89,
   "metadata": {},
   "outputs": [
    {
     "data": {
      "text/plain": [
       "[1, 2, 3, 4, 5, 6, 7, 8, 9]"
      ]
     },
     "execution_count": 89,
     "metadata": {},
     "output_type": "execute_result"
    }
   ],
   "source": [
    "def rang(k, s):\n",
    "    ls = []\n",
    "    for i in range(k, s):\n",
    "        ls.append(i)\n",
    "    return ls\n",
    "\n",
    "\n",
    "rang(1, 10)\n",
    "\n"
   ]
  },
  {
   "cell_type": "markdown",
   "metadata": {},
   "source": [
    "36. Sum of Positive Numbers: Given a list of numbers, calculate the sum of all positive numbers.\n"
   ]
  },
  {
   "cell_type": "code",
   "execution_count": 91,
   "metadata": {},
   "outputs": [
    {
     "data": {
      "text/plain": [
       "3"
      ]
     },
     "execution_count": 91,
     "metadata": {},
     "output_type": "execute_result"
    }
   ],
   "source": [
    "def pos(ls):\n",
    "    ls1 = list(filter(lambda x: x>0, ls))\n",
    "    sum_pos = sum(ls1)\n",
    "    return sum_pos\n",
    "\n",
    "pos([-2, 3, -4])"
   ]
  },
  {
   "cell_type": "markdown",
   "metadata": {},
   "source": [
    "37. Sum of Negative Numbers: Given a list of numbers, calculate the sum of all negative numbers.\n"
   ]
  },
  {
   "cell_type": "code",
   "execution_count": 96,
   "metadata": {},
   "outputs": [
    {
     "data": {
      "text/plain": [
       "-9"
      ]
     },
     "execution_count": 96,
     "metadata": {},
     "output_type": "execute_result"
    }
   ],
   "source": [
    "def nega(ls):\n",
    "    ls1 = list(filter(lambda x: x<0, ls))\n",
    "    sum_neg = sum(ls1)\n",
    "    return sum_neg\n",
    "\n",
    "nega([-2, -3, -4])"
   ]
  },
  {
   "cell_type": "markdown",
   "metadata": {},
   "source": [
    "38. Check Palindrome: Given a list, check if the list is a palindrome (reads the same forwards and backwards).\n"
   ]
  },
  {
   "cell_type": "code",
   "execution_count": 98,
   "metadata": {},
   "outputs": [
    {
     "name": "stdout",
     "output_type": "stream",
     "text": [
      "Palindrome\n"
     ]
    }
   ],
   "source": [
    "def pal(ls):\n",
    "    if ls == ls[::-1]:\n",
    "        print(\"Palindrome\")\n",
    "    else:\n",
    "        print(\"Not a palindrome\")    \n",
    "\n",
    "pal([1, 2, 1])"
   ]
  },
  {
   "cell_type": "markdown",
   "metadata": {},
   "source": [
    "39. Create Nested List: Create a new list that contains sublists, where each sublist contains a specified number of elements from the original list.\n"
   ]
  },
  {
   "cell_type": "code",
   "execution_count": 104,
   "metadata": {},
   "outputs": [
    {
     "data": {
      "text/plain": [
       "[3, 4, 5, 4, 5, 6]"
      ]
     },
     "execution_count": 104,
     "metadata": {},
     "output_type": "execute_result"
    }
   ],
   "source": [
    "def subadds(ls, x, y, z, m):\n",
    "    ls1 = ls[x: y]\n",
    "    ls2 = ls[z: m]\n",
    "    ls3 = ls1 + ls2\n",
    "    return ls3\n",
    "\n",
    "subadds([3, 4, 5, 6,], 0 , 3, 1, 4)"
   ]
  },
  {
   "cell_type": "markdown",
   "metadata": {},
   "source": [
    "40. Get Unique Elements in Order: Given a list, create a new list that contains unique elements while maintaining the original order.\n"
   ]
  },
  {
   "cell_type": "code",
   "execution_count": 105,
   "metadata": {},
   "outputs": [
    {
     "data": {
      "text/plain": [
       "[1, 3, 22]"
      ]
     },
     "execution_count": 105,
     "metadata": {},
     "output_type": "execute_result"
    }
   ],
   "source": [
    "def unique(ls):\n",
    "    ls1 = list(set(ls))\n",
    "    return ls1\n",
    "\n",
    "unique([1, 22, 22 ,3, 3])\n"
   ]
  },
  {
   "cell_type": "markdown",
   "metadata": {},
   "source": [
    "<font size=\"5\" color=\"red\">Tuple Tasks</font>"
   ]
  },
  {
   "cell_type": "markdown",
   "metadata": {},
   "source": [
    "1. Count Occurrences: Given a tuple and an element, find how many times the element appears in the tuple.\n"
   ]
  },
  {
   "cell_type": "code",
   "execution_count": 106,
   "metadata": {},
   "outputs": [
    {
     "data": {
      "text/plain": [
       "3"
      ]
     },
     "execution_count": 106,
     "metadata": {},
     "output_type": "execute_result"
    }
   ],
   "source": [
    "def elm(tp, element):\n",
    "    c = tp.count(element)\n",
    "    return c\n",
    "\n",
    "elm((1, 2, 3, 1, 2, 1), 1)\n"
   ]
  },
  {
   "cell_type": "markdown",
   "metadata": {},
   "source": [
    "2. Max Element: From a given tuple, determine the largest element.\n"
   ]
  },
  {
   "cell_type": "code",
   "execution_count": 107,
   "metadata": {},
   "outputs": [
    {
     "data": {
      "text/plain": [
       "34"
      ]
     },
     "execution_count": 107,
     "metadata": {},
     "output_type": "execute_result"
    }
   ],
   "source": [
    "def larg(tp):\n",
    "    largest = max(tp)\n",
    "    return largest\n",
    "\n",
    "larg((2, 12, 34, 2))"
   ]
  },
  {
   "cell_type": "markdown",
   "metadata": {},
   "source": [
    "3. Min Element: From a given tuple, determine the smallest element.\n"
   ]
  },
  {
   "cell_type": "code",
   "execution_count": 108,
   "metadata": {},
   "outputs": [
    {
     "data": {
      "text/plain": [
       "-1"
      ]
     },
     "execution_count": 108,
     "metadata": {},
     "output_type": "execute_result"
    }
   ],
   "source": [
    "def miin(tp):\n",
    "    miini = min(tp)\n",
    "    return miini\n",
    "\n",
    "miin((2, 1, -1, 3))"
   ]
  },
  {
   "cell_type": "markdown",
   "metadata": {},
   "source": [
    "4. Check Element: Given a tuple and an element, check if the element is present in the tuple.\n"
   ]
  },
  {
   "cell_type": "code",
   "execution_count": 109,
   "metadata": {},
   "outputs": [
    {
     "data": {
      "text/plain": [
       "True"
      ]
     },
     "execution_count": 109,
     "metadata": {},
     "output_type": "execute_result"
    }
   ],
   "source": [
    "def present(tp, element):\n",
    "    if element in tp:\n",
    "        return True \n",
    "    else:\n",
    "        return False\n",
    "    \n",
    "present((3, 2), 2)\n",
    "    "
   ]
  },
  {
   "cell_type": "markdown",
   "metadata": {},
   "source": [
    "5. First Element: Access the first element of a tuple, considering what to return if the tuple is empty.\n"
   ]
  },
  {
   "cell_type": "code",
   "execution_count": 113,
   "metadata": {},
   "outputs": [
    {
     "data": {
      "text/plain": [
       "2"
      ]
     },
     "execution_count": 113,
     "metadata": {},
     "output_type": "execute_result"
    }
   ],
   "source": [
    "def firstElement(tp):\n",
    "    if tp:\n",
    "        first = tp[0]\n",
    "        return first\n",
    "    else:\n",
    "        return None\n",
    "\n",
    "firstElement((2, 3))"
   ]
  },
  {
   "cell_type": "markdown",
   "metadata": {},
   "source": [
    "6. Last Element: Access the last element of a tuple, considering what to return if the tuple is empty.\n"
   ]
  },
  {
   "cell_type": "code",
   "execution_count": 114,
   "metadata": {},
   "outputs": [
    {
     "data": {
      "text/plain": [
       "3"
      ]
     },
     "execution_count": 114,
     "metadata": {},
     "output_type": "execute_result"
    }
   ],
   "source": [
    "def lastElement(tp):\n",
    "    if tp:\n",
    "        last = tp[-1]\n",
    "        return last\n",
    "    else:\n",
    "        return None\n",
    "    \n",
    "lastElement((1, 2, 3))"
   ]
  },
  {
   "cell_type": "markdown",
   "metadata": {},
   "source": [
    "7. Tuple Length: Determine the number of elements in the tuple.\n"
   ]
  },
  {
   "cell_type": "code",
   "execution_count": 119,
   "metadata": {},
   "outputs": [
    {
     "name": "stderr",
     "output_type": "stream",
     "text": [
      "\n",
      "KeyboardInterrupt\n",
      "\n"
     ]
    }
   ],
   "source": [
    "def numtuple(tp):\n",
    "    print(len(tp))\n",
    "\n",
    "numtuple((2, 4, 5))"
   ]
  },
  {
   "cell_type": "markdown",
   "metadata": {},
   "source": [
    "8. Slice Tuple: Create a new tuple that contains only the first three elements of the original tuple.\n"
   ]
  },
  {
   "cell_type": "code",
   "execution_count": 121,
   "metadata": {},
   "outputs": [
    {
     "data": {
      "text/plain": [
       "(2, 3, 4)"
      ]
     },
     "execution_count": 121,
     "metadata": {},
     "output_type": "execute_result"
    }
   ],
   "source": [
    "def firstthree(tp):\n",
    "    tp2 = tp[0:3]\n",
    "    return tp2\n",
    "\n",
    "firstthree((2, 3, 4, 5))"
   ]
  },
  {
   "cell_type": "markdown",
   "metadata": {},
   "source": [
    "9. Concatenate Tuples: Given two tuples, create a new tuple that combines both.\n"
   ]
  },
  {
   "cell_type": "code",
   "execution_count": 122,
   "metadata": {},
   "outputs": [
    {
     "data": {
      "text/plain": [
       "(2, 3, 4, 2, 3)"
      ]
     },
     "execution_count": 122,
     "metadata": {},
     "output_type": "execute_result"
    }
   ],
   "source": [
    "def comb(tp1, tp2):\n",
    "    tp3 = tp1 + tp2\n",
    "    return tp3\n",
    "\n",
    "comb((2, 3, 4), (2, 3))"
   ]
  },
  {
   "cell_type": "markdown",
   "metadata": {},
   "source": [
    "10. Check if Tuple is Empty: Determine if a tuple has any elements.\n"
   ]
  },
  {
   "cell_type": "code",
   "execution_count": 123,
   "metadata": {},
   "outputs": [
    {
     "name": "stdout",
     "output_type": "stream",
     "text": [
      "Empty\n"
     ]
    }
   ],
   "source": [
    "def emp(tp):\n",
    "    empty = ()\n",
    "    if tp == empty:\n",
    "        print(\"Empty\")\n",
    "    else:\n",
    "        print(\"Not Empty\")\n",
    "\n",
    "emp(())"
   ]
  },
  {
   "cell_type": "markdown",
   "metadata": {},
   "source": [
    "11. Get All Indices of Element: Given a tuple and an element, find all the indices of that element in the tuple.\n"
   ]
  },
  {
   "cell_type": "code",
   "execution_count": 124,
   "metadata": {},
   "outputs": [
    {
     "name": "stdout",
     "output_type": "stream",
     "text": [
      "2\n",
      "None\n"
     ]
    }
   ],
   "source": [
    "def indice(tp, element):\n",
    "    if element in tp:\n",
    "        return tp.index(element)\n",
    "    else:\n",
    "        return None\n",
    "\n",
    "\n",
    "print(indice((1, 2, 3, 4, 5), 3))  \n",
    "print(indice((1, 2, 3, 4, 5), 6))  \n"
   ]
  },
  {
   "cell_type": "markdown",
   "metadata": {},
   "source": [
    "12. Find Second Largest: From a given tuple, find the second largest element.\n"
   ]
  },
  {
   "cell_type": "code",
   "execution_count": 126,
   "metadata": {},
   "outputs": [
    {
     "data": {
      "text/plain": [
       "3"
      ]
     },
     "execution_count": 126,
     "metadata": {},
     "output_type": "execute_result"
    }
   ],
   "source": [
    "def sec(tp):\n",
    "    sorting = sorted(tp)\n",
    "    seclarg = sorting[-2]\n",
    "    return seclarg\n",
    "\n",
    "sec((2, 3, 4))"
   ]
  },
  {
   "cell_type": "markdown",
   "metadata": {},
   "source": [
    "13. Find Second Smallest: From a given tuple, find the second smallest element.\n"
   ]
  },
  {
   "cell_type": "code",
   "execution_count": 127,
   "metadata": {},
   "outputs": [
    {
     "data": {
      "text/plain": [
       "3"
      ]
     },
     "execution_count": 127,
     "metadata": {},
     "output_type": "execute_result"
    }
   ],
   "source": [
    "def secsm(tp):\n",
    "    sorting = sorted(tp)\n",
    "    secsmall = sorting[1]\n",
    "    return secsmall\n",
    "\n",
    "sec((2, 3, 4))"
   ]
  },
  {
   "cell_type": "markdown",
   "metadata": {},
   "source": [
    "14. Create a Single Element Tuple: Create a tuple that contains a single specified element.\n"
   ]
  },
  {
   "cell_type": "code",
   "execution_count": 132,
   "metadata": {},
   "outputs": [
    {
     "data": {
      "text/plain": [
       "(1,)"
      ]
     },
     "execution_count": 132,
     "metadata": {},
     "output_type": "execute_result"
    }
   ],
   "source": [
    "def sing(element):\n",
    "    tp = ()\n",
    "    tp1 = tp + (element,)\n",
    "    return tp1\n",
    "\n",
    "sing(1)"
   ]
  },
  {
   "cell_type": "markdown",
   "metadata": {},
   "source": [
    "15. Convert List to Tuple: Given a list, create a tuple containing the same elements.\n"
   ]
  },
  {
   "cell_type": "code",
   "execution_count": 133,
   "metadata": {},
   "outputs": [
    {
     "data": {
      "text/plain": [
       "(1, 2)"
      ]
     },
     "execution_count": 133,
     "metadata": {},
     "output_type": "execute_result"
    }
   ],
   "source": [
    "def rec(ls):\n",
    "    tp = tuple(ls)\n",
    "    return tp\n",
    "\n",
    "rec([1,2])"
   ]
  },
  {
   "cell_type": "markdown",
   "metadata": {},
   "source": [
    "16. Check if Tuple is Sorted: Determine if the tuple is sorted in ascending order and return a boolean.\n"
   ]
  },
  {
   "cell_type": "code",
   "execution_count": 138,
   "metadata": {},
   "outputs": [
    {
     "data": {
      "text/plain": [
       "True"
      ]
     },
     "execution_count": 138,
     "metadata": {},
     "output_type": "execute_result"
    }
   ],
   "source": [
    "def is_sorted(tp):\n",
    "    if list(tp) == sorted(tp):\n",
    "       return True\n",
    "    else:\n",
    "        return False\n",
    "\n",
    "is_sorted((1, 2))"
   ]
  },
  {
   "cell_type": "markdown",
   "metadata": {},
   "source": [
    "17. Find Maximum of Subtuple: Given a tuple, find the maximum element of a specified subtuple.\n"
   ]
  },
  {
   "cell_type": "code",
   "execution_count": 141,
   "metadata": {},
   "outputs": [
    {
     "data": {
      "text/plain": [
       "3"
      ]
     },
     "execution_count": 141,
     "metadata": {},
     "output_type": "execute_result"
    }
   ],
   "source": [
    "def subtuplemax(tp, index):\n",
    "    maxing = max(tp[index])\n",
    "    return maxing\n",
    "\n",
    "subtuplemax(((1, 2, 3), (2, 3,4)), 0)"
   ]
  },
  {
   "cell_type": "markdown",
   "metadata": {},
   "source": [
    "18. Find Minimum of Subtuple: Given a tuple, find the minimum element of a specified subtuple.\n"
   ]
  },
  {
   "cell_type": "code",
   "execution_count": 142,
   "metadata": {},
   "outputs": [
    {
     "data": {
      "text/plain": [
       "1"
      ]
     },
     "execution_count": 142,
     "metadata": {},
     "output_type": "execute_result"
    }
   ],
   "source": [
    "def mintuple(tp, index):\n",
    "    minii = min(tp[index])\n",
    "    return minii\n",
    "\n",
    "mintuple(((1, 2, 3), (1, 123, 231)), 1)"
   ]
  },
  {
   "cell_type": "markdown",
   "metadata": {},
   "source": [
    "19. Remove Element by Value: Given a tuple and an element, create a new tuple that removes the first occurrence of that element.\n"
   ]
  },
  {
   "cell_type": "code",
   "execution_count": 146,
   "metadata": {},
   "outputs": [
    {
     "data": {
      "text/plain": [
       "(1, 2)"
      ]
     },
     "execution_count": 146,
     "metadata": {},
     "output_type": "execute_result"
    }
   ],
   "source": [
    "def removeelement(tp, element):\n",
    "    list_tp = list(tp)\n",
    "    list_tp.remove(element)\n",
    "    tupl = tuple(list_tp)\n",
    "    return tupl\n",
    "\n",
    "removeelement((1, 2, 3), 3)"
   ]
  },
  {
   "cell_type": "markdown",
   "metadata": {},
   "source": [
    "20. Create Nested Tuple: Create a new tuple that contains subtuples, where each subtuple contains specified elements from the original tuple.\n"
   ]
  },
  {
   "cell_type": "code",
   "execution_count": 155,
   "metadata": {},
   "outputs": [
    {
     "data": {
      "text/plain": [
       "((1, 2), (3, 4))"
      ]
     },
     "execution_count": 155,
     "metadata": {},
     "output_type": "execute_result"
    }
   ],
   "source": [
    "def nestedtuple(tp, x, y, z, d):\n",
    "    subtuple = ((tp[x], tp[y]), (tp[z], tp[d]))\n",
    "    return subtuple\n",
    "\n",
    "nestedtuple((1, 2, 3, 4, 5), 0, 1, 2, 3)\n"
   ]
  },
  {
   "cell_type": "markdown",
   "metadata": {},
   "source": [
    "21. Repeat Elements: Given a tuple and a number, create a new tuple where each element is repeated that number of times.\n"
   ]
  },
  {
   "cell_type": "code",
   "execution_count": 157,
   "metadata": {},
   "outputs": [
    {
     "name": "stdout",
     "output_type": "stream",
     "text": [
      "(1, 1, 1, 2, 2, 2, 3, 3, 3, 3, 3, 3)\n"
     ]
    }
   ],
   "source": [
    "def rep(tp, x):\n",
    "    tp1 = []\n",
    "    for i in tp:\n",
    "        tp1.extend([i] * x)  \n",
    "    tp2 = tuple(tp1)  \n",
    "    return tp2\n",
    "\n",
    "print(rep((1, 2, 3, 3), 3))  "
   ]
  },
  {
   "cell_type": "markdown",
   "metadata": {},
   "source": [
    "22. Filter Even Numbers: Given a list of integers, create a new list that contains only the even numbers.\n"
   ]
  },
  {
   "cell_type": "code",
   "execution_count": 163,
   "metadata": {},
   "outputs": [
    {
     "data": {
      "text/plain": [
       "(2, 4)"
      ]
     },
     "execution_count": 163,
     "metadata": {},
     "output_type": "execute_result"
    }
   ],
   "source": [
    "def eventp(tp):\n",
    "    tp = tuple(filter(lambda i: i%2==0, tp))\n",
    "    return tp\n",
    "\n",
    "eventp((2, 3, 4))"
   ]
  },
  {
   "cell_type": "markdown",
   "metadata": {},
   "source": [
    "23. Filter Odd Numbers: Given a list of integers, create a new list that contains only the odd numbers.\n"
   ]
  },
  {
   "cell_type": "code",
   "execution_count": 164,
   "metadata": {},
   "outputs": [
    {
     "data": {
      "text/plain": [
       "(3,)"
      ]
     },
     "execution_count": 164,
     "metadata": {},
     "output_type": "execute_result"
    }
   ],
   "source": [
    "def oddtp(tp):\n",
    "    tp = tuple(filter(lambda i: i%2==1, tp))\n",
    "    return tp\n",
    "\n",
    "oddtp((2, 3, 4))"
   ]
  },
  {
   "cell_type": "markdown",
   "metadata": {},
   "source": [
    "24. Check Palindrome: Given a tuple, check if the tuple is a palindrome (reads the same forwards and backwards).\n"
   ]
  },
  {
   "cell_type": "code",
   "execution_count": 166,
   "metadata": {},
   "outputs": [
    {
     "name": "stdout",
     "output_type": "stream",
     "text": [
      "Palindrome\n"
     ]
    }
   ],
   "source": [
    "def pal(tp):\n",
    "    if tp == tp[::-1]:\n",
    "       print(\"Palindrome\")\n",
    "    else:\n",
    "        print(\"Not a palindrome\")\n",
    "\n",
    "pal((2, 1, 2))\n"
   ]
  },
  {
   "cell_type": "markdown",
   "metadata": {},
   "source": [
    "25. Get Unique Elements: Given a tuple, create a new tuple that contains only the unique elements while maintaining the original order.\n"
   ]
  },
  {
   "cell_type": "code",
   "execution_count": 168,
   "metadata": {},
   "outputs": [
    {
     "data": {
      "text/plain": [
       "(1, 2)"
      ]
     },
     "execution_count": 168,
     "metadata": {},
     "output_type": "execute_result"
    }
   ],
   "source": [
    "def uniq(tp):\n",
    "    st = set(tp)\n",
    "    return tuple(st)\n",
    "\n",
    "uniq((1, 1, 2, 2))"
   ]
  },
  {
   "cell_type": "markdown",
   "metadata": {},
   "source": [
    "<font size=\"5\" color=\"red\">Set Tasks</font>"
   ]
  },
  {
   "cell_type": "markdown",
   "metadata": {},
   "source": [
    "1. Union of Sets: Given two sets, create a new set that contains all unique elements from both sets.\n"
   ]
  },
  {
   "cell_type": "code",
   "execution_count": 170,
   "metadata": {},
   "outputs": [
    {
     "data": {
      "text/plain": [
       "{1, 2, 3, 4, 5}"
      ]
     },
     "execution_count": 170,
     "metadata": {},
     "output_type": "execute_result"
    }
   ],
   "source": [
    "def std(st1, st2):\n",
    "    st3 = st1.union(st2)\n",
    "    return st3\n",
    "\n",
    "std({1 ,2 ,3}, {1, 4, 5})"
   ]
  },
  {
   "cell_type": "markdown",
   "metadata": {},
   "source": [
    "2. Intersection of Sets: Given two sets, create a new set that contains elements common to both sets.\n"
   ]
  },
  {
   "cell_type": "code",
   "execution_count": 171,
   "metadata": {},
   "outputs": [
    {
     "data": {
      "text/plain": [
       "{1}"
      ]
     },
     "execution_count": 171,
     "metadata": {},
     "output_type": "execute_result"
    }
   ],
   "source": [
    "def intr(st1, st2):\n",
    "    st3 = st1.intersection(st2)\n",
    "    return st3\n",
    "\n",
    "intr({1, 2, 3, 4}, {1, 5, 6})"
   ]
  },
  {
   "cell_type": "markdown",
   "metadata": {},
   "source": [
    "3. Difference of Sets: Given two sets, create a new set with elements from the first set that are not in the second.\n"
   ]
  },
  {
   "cell_type": "code",
   "execution_count": 172,
   "metadata": {},
   "outputs": [
    {
     "data": {
      "text/plain": [
       "{3, 4}"
      ]
     },
     "execution_count": 172,
     "metadata": {},
     "output_type": "execute_result"
    }
   ],
   "source": [
    "def diff(st1, st2):\n",
    "    st3 = st1.difference(st2)\n",
    "    return st3\n",
    "\n",
    "diff({1, 2, 3 ,4}, {1, 2})"
   ]
  },
  {
   "cell_type": "markdown",
   "metadata": {},
   "source": [
    "4. Check Subset: Given two sets, check if one set is a subset of the other.\n"
   ]
  },
  {
   "cell_type": "code",
   "execution_count": 180,
   "metadata": {},
   "outputs": [
    {
     "name": "stdout",
     "output_type": "stream",
     "text": [
      "True\n",
      "False\n"
     ]
    }
   ],
   "source": [
    "def subset(st1, st2):\n",
    "    return st1.issubset(st2)\n",
    "\n",
    "print(subset({1, 2}, {1, 2, 3, (1, 2)}))  \n",
    "print(subset({1, 2, 3}, {1, 2}))  \n"
   ]
  },
  {
   "cell_type": "markdown",
   "metadata": {},
   "source": [
    "5. Check Element: Given a set and an element, check if the element exists in the set.\n"
   ]
  },
  {
   "cell_type": "code",
   "execution_count": 181,
   "metadata": {},
   "outputs": [
    {
     "data": {
      "text/plain": [
       "True"
      ]
     },
     "execution_count": 181,
     "metadata": {},
     "output_type": "execute_result"
    }
   ],
   "source": [
    "def elmset(st, element):\n",
    "    if element in st:\n",
    "        return True\n",
    "    else:\n",
    "        return False\n",
    "    \n",
    "elmset({1, 2, 3}, 3)"
   ]
  },
  {
   "cell_type": "markdown",
   "metadata": {},
   "source": [
    "6. Set Length: Determine the number of unique elements in a set.\n"
   ]
  },
  {
   "cell_type": "code",
   "execution_count": null,
   "metadata": {},
   "outputs": [],
   "source": [
    "def lenset(st):\n",
    "    leng = len(st)\n",
    "    return leng\n",
    "\n",
    "lenset({1, 2})"
   ]
  },
  {
   "cell_type": "markdown",
   "metadata": {},
   "source": [
    "7. Convert List to Set: Given a list, create a new set that contains only the unique elements from that list.\n"
   ]
  },
  {
   "cell_type": "code",
   "execution_count": 184,
   "metadata": {},
   "outputs": [
    {
     "data": {
      "text/plain": [
       "{1, 2}"
      ]
     },
     "execution_count": 184,
     "metadata": {},
     "output_type": "execute_result"
    }
   ],
   "source": [
    "def lsto(ls):\n",
    "    st = set(ls)\n",
    "    return st\n",
    "\n",
    "lsto([1, 1, 2])"
   ]
  },
  {
   "cell_type": "markdown",
   "metadata": {},
   "source": [
    "8. Remove Element: Given a set and an element, remove the element if it exists.\n"
   ]
  },
  {
   "cell_type": "code",
   "execution_count": 192,
   "metadata": {},
   "outputs": [
    {
     "data": {
      "text/plain": [
       "{1, 3}"
      ]
     },
     "execution_count": 192,
     "metadata": {},
     "output_type": "execute_result"
    }
   ],
   "source": [
    "def rmv(st, element):\n",
    "    if element in st:\n",
    "       st.remove(element)\n",
    "       return st\n",
    "\n",
    "rmv({1, 2, 3}, 2)"
   ]
  },
  {
   "cell_type": "markdown",
   "metadata": {},
   "source": [
    "9. Clear Set: Create a new empty set from an existing set.\n"
   ]
  },
  {
   "cell_type": "code",
   "execution_count": 193,
   "metadata": {},
   "outputs": [
    {
     "data": {
      "text/plain": [
       "set()"
      ]
     },
     "execution_count": 193,
     "metadata": {},
     "output_type": "execute_result"
    }
   ],
   "source": [
    "def clearing(st):\n",
    "    st.clear()\n",
    "    return st\n",
    "\n",
    "clearing({1,2})"
   ]
  },
  {
   "cell_type": "markdown",
   "metadata": {},
   "source": [
    "10. Check if Set is Empty: Determine if a set has any elements.\n"
   ]
  },
  {
   "cell_type": "code",
   "execution_count": 195,
   "metadata": {},
   "outputs": [
    {
     "name": "stdout",
     "output_type": "stream",
     "text": [
      "Empty\n"
     ]
    }
   ],
   "source": [
    "def em(st):\n",
    "    empty = {}\n",
    "    if st == empty:\n",
    "        print(\"Empty\")\n",
    "    else:\n",
    "        print(\"Not an empty\")\n",
    "\n",
    "em({  })"
   ]
  },
  {
   "cell_type": "markdown",
   "metadata": {},
   "source": [
    "11. Symmetric Difference: Given two sets, create a new set that contains elements that are in either set but not in both.\n"
   ]
  },
  {
   "cell_type": "code",
   "execution_count": 197,
   "metadata": {},
   "outputs": [
    {
     "name": "stdout",
     "output_type": "stream",
     "text": [
      "{1, 2, 4, 5}\n"
     ]
    }
   ],
   "source": [
    "def symmetric_difference(set1, set2):\n",
    "    return set1 ^ set2\n",
    "\n",
    "print(symmetric_difference({1, 2, 3}, {3, 4, 5}))  \n"
   ]
  },
  {
   "cell_type": "markdown",
   "metadata": {},
   "source": [
    "12. Add Element: Given a set and an element, add the element to the set if it is not already present.\n"
   ]
  },
  {
   "cell_type": "code",
   "execution_count": 198,
   "metadata": {},
   "outputs": [
    {
     "data": {
      "text/plain": [
       "{1, 2, 3, 4}"
      ]
     },
     "execution_count": 198,
     "metadata": {},
     "output_type": "execute_result"
    }
   ],
   "source": [
    "def pre(st, element):\n",
    "    if element in st:\n",
    "        return st\n",
    "    else:\n",
    "        st.add(element)\n",
    "        return st\n",
    "    \n",
    "pre({1, 2, 3}, 4)"
   ]
  },
  {
   "cell_type": "markdown",
   "metadata": {},
   "source": [
    "13. Pop Element: Given a set, remove and return an arbitrary element from the set.\n"
   ]
  },
  {
   "cell_type": "code",
   "execution_count": 199,
   "metadata": {},
   "outputs": [
    {
     "name": "stdout",
     "output_type": "stream",
     "text": [
      "Popped element: 1\n",
      "Remaining set: {2, 3, 4, 5}\n"
     ]
    }
   ],
   "source": [
    "def pop_element(s):\n",
    "    return s.pop()\n",
    "\n",
    "my_set = {1, 2, 3, 4, 5}\n",
    "popped_element = pop_element(my_set)\n",
    "print(f\"Popped element: {popped_element}\")\n",
    "print(f\"Remaining set: {my_set}\")\n"
   ]
  },
  {
   "cell_type": "markdown",
   "metadata": {},
   "source": [
    "14. Find Maximum: From a given set of numbers, find the maximum element.\n"
   ]
  },
  {
   "cell_type": "code",
   "execution_count": 200,
   "metadata": {},
   "outputs": [
    {
     "data": {
      "text/plain": [
       "2"
      ]
     },
     "execution_count": 200,
     "metadata": {},
     "output_type": "execute_result"
    }
   ],
   "source": [
    "def jf(st):\n",
    "    maximu = max(st)\n",
    "    return maximu\n",
    "\n",
    "jf({1, 2})"
   ]
  },
  {
   "cell_type": "markdown",
   "metadata": {},
   "source": [
    "15. Find Minimum: From a given set of numbers, find the minimum element.\n"
   ]
  },
  {
   "cell_type": "code",
   "execution_count": 201,
   "metadata": {},
   "outputs": [
    {
     "data": {
      "text/plain": [
       "1"
      ]
     },
     "execution_count": 201,
     "metadata": {},
     "output_type": "execute_result"
    }
   ],
   "source": [
    "def mm(st):\n",
    "    minn = min(st)\n",
    "    return minn\n",
    "\n",
    "mm({1, 2, 3, 4})"
   ]
  },
  {
   "cell_type": "markdown",
   "metadata": {},
   "source": [
    "16. Filter Even Numbers: Given a set of integers, create a new set that contains only the even numbers.\n"
   ]
  },
  {
   "cell_type": "code",
   "execution_count": 205,
   "metadata": {},
   "outputs": [
    {
     "data": {
      "text/plain": [
       "{2, 4}"
      ]
     },
     "execution_count": 205,
     "metadata": {},
     "output_type": "execute_result"
    }
   ],
   "source": [
    "def onev(st):\n",
    "    even_set = {i for i in st if i % 2 == 0}\n",
    "    return even_set\n",
    "\n",
    "onev({2, 3, 4}) \n"
   ]
  },
  {
   "cell_type": "markdown",
   "metadata": {},
   "source": [
    "17. Filter Odd Numbers: Given a set of integers, create a new set that contains only the odd numbers.\n"
   ]
  },
  {
   "cell_type": "code",
   "execution_count": 210,
   "metadata": {},
   "outputs": [
    {
     "data": {
      "text/plain": [
       "{3}"
      ]
     },
     "execution_count": 210,
     "metadata": {},
     "output_type": "execute_result"
    }
   ],
   "source": [
    "def onodd(st):\n",
    "    odd_set = {i for i in st if i % 2 == 1}\n",
    "    return odd_set\n",
    "\n",
    "onodd({2, 3, 4})"
   ]
  },
  {
   "cell_type": "markdown",
   "metadata": {},
   "source": [
    "18. Create a Set of a Range: Create a set of numbers in a specified range (e.g., from 1 to 10).\n"
   ]
  },
  {
   "cell_type": "code",
   "execution_count": 211,
   "metadata": {},
   "outputs": [
    {
     "data": {
      "text/plain": [
       "{1, 2, 3, 4, 5, 6, 7, 8, 9}"
      ]
     },
     "execution_count": 211,
     "metadata": {},
     "output_type": "execute_result"
    }
   ],
   "source": [
    "def cr(r1, r2):\n",
    "    st = {i for i in range(r1, r2)} \n",
    "    return st\n",
    "\n",
    "cr(1, 10)"
   ]
  },
  {
   "cell_type": "markdown",
   "metadata": {},
   "source": [
    "19. Merge and Deduplicate: Given two lists, create a new set that merges both lists and removes duplicates.\n"
   ]
  },
  {
   "cell_type": "code",
   "execution_count": 213,
   "metadata": {},
   "outputs": [
    {
     "data": {
      "text/plain": [
       "{1, 2, 3, 4}"
      ]
     },
     "execution_count": 213,
     "metadata": {},
     "output_type": "execute_result"
    }
   ],
   "source": [
    "def merge(ls1, ls2):\n",
    "    meging = set(ls1) | set(ls2)\n",
    "    return meging\n",
    "\n",
    "merge([1, 2, 3], [3, 2, 4])"
   ]
  },
  {
   "cell_type": "markdown",
   "metadata": {},
   "source": [
    "20. Check Disjoint Sets: Given two sets, check if they have no elements in common.\n"
   ]
  },
  {
   "cell_type": "code",
   "execution_count": 215,
   "metadata": {},
   "outputs": [
    {
     "data": {
      "text/plain": [
       "True"
      ]
     },
     "execution_count": 215,
     "metadata": {},
     "output_type": "execute_result"
    }
   ],
   "source": [
    "def check_disjoint(set1, set2):\n",
    "    return set1.isdisjoint(set2)\n",
    "\n",
    "check_disjoint({1, 2, 3}, {4, 5, 6}) \n"
   ]
  },
  {
   "cell_type": "markdown",
   "metadata": {},
   "source": [
    "21. Remove Duplicates from a List: Given a list, create a set from it to remove duplicates, then convert back to a list.\n"
   ]
  },
  {
   "cell_type": "code",
   "execution_count": 216,
   "metadata": {},
   "outputs": [
    {
     "data": {
      "text/plain": [
       "[1, 2, 3, 22]"
      ]
     },
     "execution_count": 216,
     "metadata": {},
     "output_type": "execute_result"
    }
   ],
   "source": [
    "def rmvdub(ls):\n",
    "    setting = set(ls)\n",
    "    listing = list(setting)\n",
    "    return listing\n",
    "\n",
    "rmvdub([1, 22, 22, 1, 3, 2])"
   ]
  },
  {
   "cell_type": "markdown",
   "metadata": {},
   "source": [
    "22. Get Unique Elements in Order: Given a list, create a set that contains unique elements while maintaining their first appearance order.\n"
   ]
  },
  {
   "cell_type": "code",
   "execution_count": 217,
   "metadata": {},
   "outputs": [
    {
     "data": {
      "text/plain": [
       "{1, 2, 3, 22}"
      ]
     },
     "execution_count": 217,
     "metadata": {},
     "output_type": "execute_result"
    }
   ],
   "source": [
    "def uniqset(ls):\n",
    "    setting = set(ls)\n",
    "    setting = set(setting)\n",
    "    return setting\n",
    "\n",
    "uniqset([1, 22, 22, 1, 3, 2])"
   ]
  },
  {
   "cell_type": "markdown",
   "metadata": {},
   "source": [
    "23. Create Nested Sets: Create a set of sets, where each inner set contains a specified number of unique elements.\n"
   ]
  },
  {
   "cell_type": "code",
   "execution_count": 219,
   "metadata": {},
   "outputs": [
    {
     "name": "stdout",
     "output_type": "stream",
     "text": [
      "{frozenset({1, 2, 3}), frozenset({4, 5, 6}), frozenset({8, 9, 7})}\n"
     ]
    }
   ],
   "source": [
    "import itertools\n",
    "\n",
    "def create_nested_sets(elements, n):\n",
    "    nested_sets = set()\n",
    "    iterator = iter(elements)\n",
    "    while True:\n",
    "        chunk = list(itertools.islice(iterator, n))\n",
    "        if not chunk:\n",
    "            break\n",
    "        nested_sets.add(frozenset(chunk))\n",
    "    return nested_sets\n",
    "\n",
    "print(create_nested_sets([1, 2, 3, 4, 5, 6, 7, 8, 9], 3))\n",
    "\n"
   ]
  },
  {
   "cell_type": "markdown",
   "metadata": {},
   "source": [
    "24. Count Unique Elements: Given a list, determine the count of unique elements using a set.\n"
   ]
  },
  {
   "cell_type": "code",
   "execution_count": null,
   "metadata": {},
   "outputs": [],
   "source": [
    "def unilist(ls):\n",
    "    setting = set(ls)  \n",
    "    counting = len(setting) \n",
    "    return counting\n",
    "\n",
    "unilist([1, 1, 2, 3, 3, 4])\n"
   ]
  },
  {
   "cell_type": "markdown",
   "metadata": {},
   "source": [
    "25. Generate Random Set: Create a set with a specified number of random integers within a certain range.\n"
   ]
  },
  {
   "cell_type": "code",
   "execution_count": 222,
   "metadata": {},
   "outputs": [
    {
     "data": {
      "text/plain": [
       "{1, 2, 3, 4, 5, 6, 7, 8, 9}"
      ]
     },
     "execution_count": 222,
     "metadata": {},
     "output_type": "execute_result"
    }
   ],
   "source": [
    "def rangset(st, x, y):\n",
    "    st = {i for i in range(x, y)}\n",
    "    return st\n",
    "\n",
    "rangset({}, 1, 10)\n"
   ]
  },
  {
   "cell_type": "markdown",
   "metadata": {},
   "source": [
    "<font size=\"5\" color=\"brown\">Dictionary Tasks</font>"
   ]
  },
  {
   "cell_type": "markdown",
   "metadata": {},
   "source": [
    "1. Get Value: Given a dictionary and a key, retrieve the associated value, considering what to return if the key doesn’t exist.\n"
   ]
  },
  {
   "cell_type": "code",
   "execution_count": 224,
   "metadata": {},
   "outputs": [
    {
     "data": {
      "text/plain": [
       "'There is no this kind of key'"
      ]
     },
     "execution_count": 224,
     "metadata": {},
     "output_type": "execute_result"
    }
   ],
   "source": [
    "def dictval(dct, key, default=None):\n",
    "    return dct.get(key, default)\n",
    "\n",
    "dictval({'b':1, 'a':2, 'c':3}, 'w', \"There is no this kind of key\")"
   ]
  },
  {
   "cell_type": "markdown",
   "metadata": {},
   "source": [
    "2. Check Key: Given a dictionary and a key, check if the key is present in the dictionary.\n"
   ]
  },
  {
   "cell_type": "code",
   "execution_count": 226,
   "metadata": {},
   "outputs": [
    {
     "data": {
      "text/plain": [
       "False"
      ]
     },
     "execution_count": 226,
     "metadata": {},
     "output_type": "execute_result"
    }
   ],
   "source": [
    "def prkey(dct, key):\n",
    "    if key in dct:\n",
    "        return True\n",
    "    else:\n",
    "        return False\n",
    "\n",
    "prkey({'s': 1, 'z': 3,'m': 7}, 'a')"
   ]
  },
  {
   "cell_type": "markdown",
   "metadata": {},
   "source": [
    "3. Count Keys: Determine the number of keys in the dictionary.\n"
   ]
  },
  {
   "cell_type": "code",
   "execution_count": null,
   "metadata": {},
   "outputs": [],
   "source": [
    "def countkeys(dct):\n",
    "    num_of_key = len(dct)\n",
    "    return num_of_key\n",
    "\n",
    "countkeys({'a':1, 'j': 2})"
   ]
  },
  {
   "cell_type": "markdown",
   "metadata": {},
   "source": [
    "4. Get All Keys: Create a list that contains all the keys in the dictionary.\n"
   ]
  },
  {
   "cell_type": "code",
   "execution_count": 229,
   "metadata": {},
   "outputs": [
    {
     "data": {
      "text/plain": [
       "['a', 'b']"
      ]
     },
     "execution_count": 229,
     "metadata": {},
     "output_type": "execute_result"
    }
   ],
   "source": [
    "def lsdict(dct):\n",
    "    ls = [i for i in dct]\n",
    "    return ls\n",
    "\n",
    "lsdict({'a':1, 'b':3})\n",
    "    "
   ]
  },
  {
   "cell_type": "markdown",
   "metadata": {},
   "source": [
    "5. Get All Values: Create a list that contains all the values in the dictionary.\n"
   ]
  },
  {
   "cell_type": "code",
   "execution_count": 230,
   "metadata": {},
   "outputs": [
    {
     "data": {
      "text/plain": [
       "[1, 3]"
      ]
     },
     "execution_count": 230,
     "metadata": {},
     "output_type": "execute_result"
    }
   ],
   "source": [
    "def allvals(dct):\n",
    "    return list(dct.values())\n",
    "\n",
    "allvals({'a':1, 'b':3})"
   ]
  },
  {
   "cell_type": "markdown",
   "metadata": {},
   "source": [
    "6. Merge Dictionaries: Given two dictionaries, create a new dictionary that combines both.\n"
   ]
  },
  {
   "cell_type": "code",
   "execution_count": 235,
   "metadata": {},
   "outputs": [
    {
     "data": {
      "text/plain": [
       "{'a': 1, 'b': 1, 'g': 2}"
      ]
     },
     "execution_count": 235,
     "metadata": {},
     "output_type": "execute_result"
    }
   ],
   "source": [
    "def twodict(dct1, dct2):\n",
    "    dct1.update(dct2)\n",
    "    return dct1\n",
    "\n",
    "twodict({'a':1, 'b':3}, {'b':1, 'g':2})"
   ]
  },
  {
   "cell_type": "markdown",
   "metadata": {},
   "source": [
    "7. Remove Key: Given a dictionary and a key, remove the key if it exists, handling the case if it doesn’t.\n"
   ]
  },
  {
   "cell_type": "code",
   "execution_count": 238,
   "metadata": {},
   "outputs": [
    {
     "name": "stdout",
     "output_type": "stream",
     "text": [
      "{'b': 3}\n"
     ]
    }
   ],
   "source": [
    "def remvkey(dct, key):\n",
    "    if key in dct:\n",
    "        del dct[key]  \n",
    "    else:\n",
    "        print(\"This key is not present\")\n",
    "\n",
    "my_dict = {'a': 1, 'b': 3}\n",
    "remvkey(my_dict, 'a')\n",
    "print(my_dict)  \n"
   ]
  },
  {
   "cell_type": "markdown",
   "metadata": {},
   "source": [
    "8. Clear Dictionary: Create a new empty dictionary.\n"
   ]
  },
  {
   "cell_type": "code",
   "execution_count": 242,
   "metadata": {},
   "outputs": [
    {
     "data": {
      "text/plain": [
       "{}"
      ]
     },
     "execution_count": 242,
     "metadata": {},
     "output_type": "execute_result"
    }
   ],
   "source": [
    "def clearingdict(dct):\n",
    "    dct.clear()\n",
    "    return dct\n",
    "\n",
    "clearingdict({'a':1})"
   ]
  },
  {
   "cell_type": "markdown",
   "metadata": {},
   "source": [
    "9. Check if Dictionary is Empty: Determine if a dictionary has any elements.\n"
   ]
  },
  {
   "cell_type": "code",
   "execution_count": 244,
   "metadata": {},
   "outputs": [
    {
     "name": "stdout",
     "output_type": "stream",
     "text": [
      "Empty dictionary\n"
     ]
    }
   ],
   "source": [
    "def empcheck(dct):\n",
    "    emp_dict = {}\n",
    "    if dct == emp_dict:\n",
    "        print(\"Empty dictionary\")\n",
    "    else:\n",
    "        print(\"There are/is elements/element\")\n",
    "\n",
    "empcheck({     })"
   ]
  },
  {
   "cell_type": "markdown",
   "metadata": {},
   "source": [
    "10. Get Key-Value Pair: Given a dictionary and a key, retrieve the key-value pair if the key exists.\n"
   ]
  },
  {
   "cell_type": "code",
   "execution_count": 245,
   "metadata": {},
   "outputs": [
    {
     "data": {
      "text/plain": [
       "2"
      ]
     },
     "execution_count": 245,
     "metadata": {},
     "output_type": "execute_result"
    }
   ],
   "source": [
    "def keyvalpair(dct, key):\n",
    "    pair = dct.get(key)\n",
    "    return pair\n",
    "\n",
    "keyvalpair({'a':1, 'b':2}, 'b')"
   ]
  },
  {
   "cell_type": "markdown",
   "metadata": {},
   "source": [
    "11. Update Value: Given a dictionary, update the value for a specified key.\n"
   ]
  },
  {
   "cell_type": "code",
   "execution_count": 248,
   "metadata": {},
   "outputs": [
    {
     "data": {
      "text/plain": [
       "{'a': 1, 'b': 11}"
      ]
     },
     "execution_count": 248,
     "metadata": {},
     "output_type": "execute_result"
    }
   ],
   "source": [
    "def updating(dct, key, val):\n",
    "    dct[key] = val\n",
    "    return dct\n",
    "\n",
    "updating({'a':1, 'b':2}, 'b', 11)"
   ]
  },
  {
   "cell_type": "markdown",
   "metadata": {},
   "source": [
    "12. Count Value Occurrences: Given a dictionary, count how many times a specific value appears across the keys.\n"
   ]
  },
  {
   "cell_type": "code",
   "execution_count": 250,
   "metadata": {},
   "outputs": [
    {
     "data": {
      "text/plain": [
       "2"
      ]
     },
     "execution_count": 250,
     "metadata": {},
     "output_type": "execute_result"
    }
   ],
   "source": [
    "def specount(dct, value):\n",
    "    return list(dct.values()).count(value)\n",
    "\n",
    "specount({'a':1, 'b':1}, 1)\n"
   ]
  },
  {
   "cell_type": "markdown",
   "metadata": {},
   "source": [
    "13. Invert Dictionary: Given a dictionary, create a new dictionary that swaps keys and values.\n"
   ]
  },
  {
   "cell_type": "code",
   "execution_count": 251,
   "metadata": {},
   "outputs": [
    {
     "data": {
      "text/plain": [
       "{1: 'a', 2: 'b', 3: 'c'}"
      ]
     },
     "execution_count": 251,
     "metadata": {},
     "output_type": "execute_result"
    }
   ],
   "source": [
    "def invertdict(dct):\n",
    "    return {v: k for k, v in dct.items()}\n",
    "\n",
    "dicts = {'a': 1, 'b': 2, 'c': 3}\n",
    "invertdict(dicts)  \n"
   ]
  },
  {
   "cell_type": "markdown",
   "metadata": {},
   "source": [
    "14. Find Keys with Value: Given a dictionary and a value, create a list of all keys that have that value.\n"
   ]
  },
  {
   "cell_type": "code",
   "execution_count": 257,
   "metadata": {},
   "outputs": [
    {
     "data": {
      "text/plain": [
       "['a']"
      ]
     },
     "execution_count": 257,
     "metadata": {},
     "output_type": "execute_result"
    }
   ],
   "source": [
    "def swap(dct, val):\n",
    "    return [k for k, v in dct.items() if v==val]\n",
    "\n",
    "swap({'a':1, 'b':2, 'c':3}, 1)"
   ]
  },
  {
   "cell_type": "markdown",
   "metadata": {},
   "source": [
    "15. Create a Dictionary from Lists: Given two lists (one of keys and one of values), create a dictionary that pairs them.\n"
   ]
  },
  {
   "cell_type": "code",
   "execution_count": 260,
   "metadata": {},
   "outputs": [
    {
     "data": {
      "text/plain": [
       "{'a': 1, 'b': 2}"
      ]
     },
     "execution_count": 260,
     "metadata": {},
     "output_type": "execute_result"
    }
   ],
   "source": [
    "def crtdict(ls):\n",
    "    it = iter(ls)\n",
    "    dct = dict(zip(it, it))\n",
    "    return dct\n",
    "\n",
    "crtdict(['a', 1, 'b', 2])  \n"
   ]
  },
  {
   "cell_type": "markdown",
   "metadata": {},
   "source": [
    "16. Check for Nested Dictionaries: Given a dictionary, check if any values are also dictionaries.\n"
   ]
  },
  {
   "cell_type": "code",
   "execution_count": 261,
   "metadata": {},
   "outputs": [
    {
     "name": "stdout",
     "output_type": "stream",
     "text": [
      "True\n"
     ]
    }
   ],
   "source": [
    "def nesteddicts(dct):\n",
    "    return any(isinstance(value, dict) for value in dct.values())\n",
    "\n",
    "my_dict = {'a': 1, 'b': {'key': 'value'}, 'c': 3}\n",
    "print(nesteddicts(my_dict))  \n"
   ]
  },
  {
   "cell_type": "markdown",
   "metadata": {},
   "source": [
    "17. Get Nested Value: Given a nested dictionary, retrieve a value from within one of the inner dictionaries.\n"
   ]
  },
  {
   "cell_type": "code",
   "execution_count": 264,
   "metadata": {},
   "outputs": [
    {
     "name": "stdout",
     "output_type": "stream",
     "text": [
      "value\n"
     ]
    }
   ],
   "source": [
    "def get_nested_value(dct, outer_key, inner_key):\n",
    "    return dct[outer_key][inner_key]\n",
    "\n",
    "nested_dict = {'a': {'key': 'value'}, 'b': 2, 'c': 3}\n",
    "print(get_nested_value(nested_dict, 'a', 'key'))  \n"
   ]
  },
  {
   "cell_type": "markdown",
   "metadata": {},
   "source": [
    "18. Create Default Dictionary: Create a dictionary that provides a default value for missing keys.\n"
   ]
  },
  {
   "cell_type": "code",
   "execution_count": 265,
   "metadata": {},
   "outputs": [
    {
     "name": "stdout",
     "output_type": "stream",
     "text": [
      "default_value\n"
     ]
    }
   ],
   "source": [
    "from collections import defaultdict\n",
    "\n",
    "def create_default_dict(default_value):\n",
    "    return defaultdict(lambda: default_value)\n",
    "\n",
    "default_dict = create_default_dict('default_value')\n",
    "print(default_dict['missing_key'])  \n"
   ]
  },
  {
   "cell_type": "markdown",
   "metadata": {},
   "source": [
    "19. Count Unique Values: Given a dictionary, determine the number of unique values it contains.\n"
   ]
  },
  {
   "cell_type": "code",
   "execution_count": null,
   "metadata": {},
   "outputs": [],
   "source": [
    "def dictset(dct):\n",
    "    setting = set(dct.values())\n",
    "    gg = len(setting)\n",
    "    return gg\n",
    "\n",
    "dictset({'a':2, 'b':2, 'c':3})"
   ]
  },
  {
   "cell_type": "markdown",
   "metadata": {},
   "source": [
    "20. Sort Dictionary by Key: Create a new dictionary sorted by keys.\n"
   ]
  },
  {
   "cell_type": "code",
   "execution_count": 267,
   "metadata": {},
   "outputs": [
    {
     "data": {
      "text/plain": [
       "{'a': 2, 'n': 1}"
      ]
     },
     "execution_count": 267,
     "metadata": {},
     "output_type": "execute_result"
    }
   ],
   "source": [
    "def sortingkey(dct):\n",
    "    sorting_keys = {key: dct[key] for key in sorted(dct)}\n",
    "    return sorting_keys\n",
    "\n",
    "sortingkey({'n':1, 'a':2})"
   ]
  },
  {
   "cell_type": "markdown",
   "metadata": {},
   "source": [
    "21. Sort Dictionary by Value: Create a new dictionary sorted by values.\n"
   ]
  },
  {
   "cell_type": "code",
   "execution_count": 270,
   "metadata": {},
   "outputs": [
    {
     "data": {
      "text/plain": [
       "{'n': 1, 'a': 2}"
      ]
     },
     "execution_count": 270,
     "metadata": {},
     "output_type": "execute_result"
    }
   ],
   "source": [
    "def sortingvals(dct):\n",
    "    sorting_vals = {key: value for key, value in sorted(dct.items(), key=lambda item: item[1])}\n",
    "    return sorting_vals\n",
    "\n",
    "sortingvals({'n':1, 'a':2})"
   ]
  },
  {
   "cell_type": "markdown",
   "metadata": {},
   "source": [
    "22. Filter by Value: Given a dictionary, create a new dictionary that only includes items with values that meet a certain condition.\n"
   ]
  },
  {
   "cell_type": "code",
   "execution_count": 271,
   "metadata": {},
   "outputs": [
    {
     "name": "stdout",
     "output_type": "stream",
     "text": [
      "{'c': 3, 'd': 4}\n"
     ]
    }
   ],
   "source": [
    "def filtervalue(dct, condition):\n",
    "    return {k: v for k, v in dct.items() if condition(v)}\n",
    "\n",
    "my_dict = {'a': 1, 'b': 2, 'c': 3, 'd': 4}\n",
    "filtered_dict = filtervalue(my_dict, lambda x: x > 2)\n",
    "print(filtered_dict)  \n"
   ]
  },
  {
   "cell_type": "markdown",
   "metadata": {},
   "source": [
    "23. Check for Common Keys: Given two dictionaries, check if they have any keys in common.\n"
   ]
  },
  {
   "cell_type": "code",
   "execution_count": 272,
   "metadata": {},
   "outputs": [
    {
     "name": "stdout",
     "output_type": "stream",
     "text": [
      "True\n"
     ]
    }
   ],
   "source": [
    "def check_common_keys(dict1, dict2):\n",
    "    common_keys = set(dict1.keys()) & set(dict2.keys())\n",
    "    return bool(common_keys)\n",
    "\n",
    "dict1 = {'a': 1, 'b': 2, 'c': 3}\n",
    "dict2 = {'b': 4, 'd': 5, 'e': 6}\n",
    "print(check_common_keys(dict1, dict2))  \n"
   ]
  },
  {
   "cell_type": "markdown",
   "metadata": {},
   "source": [
    "24. Create Dictionary from Tuple: Given a tuple of key-value pairs, create a dictionary from it.\n"
   ]
  },
  {
   "cell_type": "code",
   "execution_count": 273,
   "metadata": {},
   "outputs": [
    {
     "data": {
      "text/plain": [
       "{'a': 1, 'b': 2, 'c': 3}"
      ]
     },
     "execution_count": 273,
     "metadata": {},
     "output_type": "execute_result"
    }
   ],
   "source": [
    "def creatingtuple(tuples):\n",
    "    return dict(tuples)\n",
    "\n",
    "creatingtuple((('a', 1), ('b', 2), ('c', 3)))\n"
   ]
  },
  {
   "cell_type": "markdown",
   "metadata": {},
   "source": [
    "25. Get the First Key-Value Pair: Retrieve the first key-value pair from a dictionary.\n"
   ]
  },
  {
   "cell_type": "code",
   "execution_count": 279,
   "metadata": {},
   "outputs": [
    {
     "data": {
      "text/plain": [
       "3"
      ]
     },
     "execution_count": 279,
     "metadata": {},
     "output_type": "execute_result"
    }
   ],
   "source": [
    "def firstkey(dct):\n",
    "    listing = list(dct.values())  \n",
    "    picking = listing[0]  \n",
    "    return picking\n",
    "\n",
    "firstkey({'a': 3, 'b': 2}) \n"
   ]
  }
 ],
 "metadata": {
  "kernelspec": {
   "display_name": "Python 3",
   "language": "python",
   "name": "python3"
  },
  "language_info": {
   "codemirror_mode": {
    "name": "ipython",
    "version": 3
   },
   "file_extension": ".py",
   "mimetype": "text/x-python",
   "name": "python",
   "nbconvert_exporter": "python",
   "pygments_lexer": "ipython3",
   "version": "3.12.6"
  }
 },
 "nbformat": 4,
 "nbformat_minor": 2
}

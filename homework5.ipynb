{
 "cells": [
  {
   "cell_type": "markdown",
   "metadata": {},
   "source": [
    "<font size=\"5\" color=\"white\">Python File Input Output[ 21 exercises with solution]</font>"
   ]
  },
  {
   "cell_type": "markdown",
   "metadata": {},
   "source": [
    "1. Write a Python program to read an entire text file.\n"
   ]
  },
  {
   "cell_type": "code",
   "execution_count": 2,
   "metadata": {},
   "outputs": [
    {
     "name": "stdout",
     "output_type": "stream",
     "text": [
      "\n"
     ]
    }
   ],
   "source": [
    "def entire_text(file):\n",
    "        txt = open(file)\n",
    "        print(txt.read())\n",
    "\n",
    "entire_text('text.txt')\n"
   ]
  },
  {
   "cell_type": "markdown",
   "metadata": {},
   "source": [
    "2. Write a Python program to read first n lines of a file.\n"
   ]
  },
  {
   "cell_type": "code",
   "execution_count": 5,
   "metadata": {},
   "outputs": [
    {
     "name": "stdout",
     "output_type": "stream",
     "text": [
      "What is information technology?\n",
      "\n"
     ]
    }
   ],
   "source": [
    "def firstnline(file, line):\n",
    "        from itertools import islice\n",
    "        with open(file) as f:\n",
    "                for lines in islice(f, line):\n",
    "                        print(lines)\n",
    "firstnline('text.txt',1)\n"
   ]
  },
  {
   "cell_type": "markdown",
   "metadata": {},
   "source": [
    "3. Write a Python program to append text to a file and display the text.\n"
   ]
  },
  {
   "cell_type": "code",
   "execution_count": 6,
   "metadata": {},
   "outputs": [
    {
     "name": "stdout",
     "output_type": "stream",
     "text": [
      "What is information technology?\n",
      "Information technology (IT) is the use of computers, storage, networking and other physical devices, infrastructure and processes to create, process, store, secure and exchange all forms of electronic data. Typically, IT is used in the context of business operations, as opposed to the technology used for personal or entertainment purposes. The commercial use of IT encompasses both computer technology and telecommunications.\n",
      "\n",
      "Harvard Business Review coined the term information technology in 1958 to distinguish between purpose-built machines designed to perform a limited scope of functions and general-purpose computing machines that could be programmed for various tasks. As the IT industry evolved from the mid-20th century, computing capability increased, while device cost and energy consumption decreased, a cycle that continues today when new technologies emerge.\n",
      "\n",
      "Types of information technology\n",
      "Information technology encompasses a wide range of technologies and systems that are used to store, retrieve, process and transmit data for specific use cases.\n",
      "\n",
      "Common information technology types include the following:\n",
      "\n",
      "Internet and web technologies. This includes the tools and protocols used to access, navigate and interact with information on the internet. Examples include web browsers, websites, web servers, Hypertext Markup Language, cascading style sheets, JavaScript, HTTP and other internet-related technologies.\n",
      "Cloud computing. This involves the delivery of computing resources and services over the internet on a pay-per-use basis. This can include infrastructure as a service, platform as a service, software as a service and cloud storage options.\n",
      "Databases. This includes IT systems and software used to store, organize and retrieve data. Examples include MySQL, NoSQL, relational database management systems and MongoDB.\n",
      "Artificial intelligence and machine learning. AI and ML-based IT technologies use algorithms and statistical models to enable computers to perform tasks that typically require human intelligence. Examples include speech recognition, image recognition and natural language processing.\n",
      "Cybersecurity. This type of IT includes technologies and best practices designed to protect IT systems, networks and data from unauthorized access, cyber attacks and other security threats. Cybersecurity can be enforced through firewalls, antivirus software, encryption, intrusion detection systems and security policies.\n",
      "Internet of things. This includes the network of interconnected devices and sensors that collect, exchange and analyze data. IoT technologies enable the integration of physical objects into computer systems, providing automation, monitoring and control in various domains.\n",
      "IT governance. This involves making policies and rules for the organization to ensure effective operation.\n",
      "Data analytics and business intelligence. BI focuses on tools and techniques for extracting insights from large data sets to support decision-making and business operations. This can include data mining, statistical analysis, data visualization and predictive modeling.\n",
      "What does information technology encompass?\n",
      "The IT department ensures that the organization's systems, networks, applications, data and information all connect and function properly. The IT team handles the following three major areas:I think this info will be useful\n",
      "\n"
     ]
    }
   ],
   "source": [
    "def append_and_display(file, text):\n",
    "    with open(file, 'a') as files:\n",
    "        files.write(text + '\\n')  \n",
    "\n",
    "    with open(file, 'r') as files:\n",
    "        content = files.read()\n",
    "        print(content)\n",
    "\n",
    "file = 'text.txt'\n",
    "text_to_append = 'I think this info will be useful'\n",
    "append_and_display(file, text_to_append)\n"
   ]
  },
  {
   "cell_type": "markdown",
   "metadata": {},
   "source": [
    "4. Write a Python program to read last n lines of a file.\n"
   ]
  },
  {
   "cell_type": "code",
   "execution_count": 7,
   "metadata": {},
   "outputs": [
    {
     "name": "stdout",
     "output_type": "stream",
     "text": [
      "The IT department ensures that the organization's systems, networks, applications, data and information all connect and function properly. The IT team handles the following three major areas:I think this info will be useful\n"
     ]
    }
   ],
   "source": [
    "def last_n_lines(file_name, n):\n",
    "    with open(file_name) as f:\n",
    "        lines = f.readlines()\n",
    "        for line in lines[-n:]:\n",
    "            print(line, end='')\n",
    "\n",
    "last_n_lines('text.txt', 1)\n"
   ]
  },
  {
   "cell_type": "markdown",
   "metadata": {},
   "source": [
    "5. Write a Python program to read a file line by line and store it into a list.\n"
   ]
  },
  {
   "cell_type": "code",
   "execution_count": 8,
   "metadata": {},
   "outputs": [
    {
     "name": "stdout",
     "output_type": "stream",
     "text": [
      "What is information technology?\n",
      "\n"
     ]
    }
   ],
   "source": [
    "def read_file(file):\n",
    "    with open(file) as f:\n",
    "        lines = f.readline()\n",
    "        print(lines)\n",
    "\n",
    "read_file(\"text.txt\")"
   ]
  },
  {
   "cell_type": "markdown",
   "metadata": {},
   "source": [
    "6. Write a Python program to read a file line by line store it into a variable.\n"
   ]
  },
  {
   "cell_type": "code",
   "execution_count": 11,
   "metadata": {},
   "outputs": [
    {
     "name": "stdout",
     "output_type": "stream",
     "text": [
      "['What is information technology?\\n', 'Information technology (IT) is the use of computers, storage, networking and other physical devices, infrastructure and processes to create, process, store, secure and exchange all forms of electronic data. Typically, IT is used in the context of business operations, as opposed to the technology used for personal or entertainment purposes. The commercial use of IT encompasses both computer technology and telecommunications.\\n', '\\n', 'Harvard Business Review coined the term information technology in 1958 to distinguish between purpose-built machines designed to perform a limited scope of functions and general-purpose computing machines that could be programmed for various tasks. As the IT industry evolved from the mid-20th century, computing capability increased, while device cost and energy consumption decreased, a cycle that continues today when new technologies emerge.\\n', '\\n', 'Types of information technology\\n', 'Information technology encompasses a wide range of technologies and systems that are used to store, retrieve, process and transmit data for specific use cases.\\n', '\\n', 'Common information technology types include the following:\\n', '\\n', 'Internet and web technologies. This includes the tools and protocols used to access, navigate and interact with information on the internet. Examples include web browsers, websites, web servers, Hypertext Markup Language, cascading style sheets, JavaScript, HTTP and other internet-related technologies.\\n', 'Cloud computing. This involves the delivery of computing resources and services over the internet on a pay-per-use basis. This can include infrastructure as a service, platform as a service, software as a service and cloud storage options.\\n', 'Databases. This includes IT systems and software used to store, organize and retrieve data. Examples include MySQL, NoSQL, relational database management systems and MongoDB.\\n', 'Artificial intelligence and machine learning. AI and ML-based IT technologies use algorithms and statistical models to enable computers to perform tasks that typically require human intelligence. Examples include speech recognition, image recognition and natural language processing.\\n', 'Cybersecurity. This type of IT includes technologies and best practices designed to protect IT systems, networks and data from unauthorized access, cyber attacks and other security threats. Cybersecurity can be enforced through firewalls, antivirus software, encryption, intrusion detection systems and security policies.\\n', 'Internet of things. This includes the network of interconnected devices and sensors that collect, exchange and analyze data. IoT technologies enable the integration of physical objects into computer systems, providing automation, monitoring and control in various domains.\\n', 'IT governance. This involves making policies and rules for the organization to ensure effective operation.\\n', 'Data analytics and business intelligence. BI focuses on tools and techniques for extracting insights from large data sets to support decision-making and business operations. This can include data mining, statistical analysis, data visualization and predictive modeling.\\n', 'What does information technology encompass?\\n', \"The IT department ensures that the organization's systems, networks, applications, data and information all connect and function properly. The IT team handles the following three major areas:I think this info will be useful\\n\"]\n"
     ]
    }
   ],
   "source": [
    "def read_store_variable(file):\n",
    "    ls = []\n",
    "    with open(file) as f:\n",
    "        lines = f.readlines()  \n",
    "        ls.extend(lines) \n",
    "    return ls\n",
    "\n",
    "result = read_store_variable(\"text.txt\")\n",
    "print(result)  \n"
   ]
  },
  {
   "cell_type": "markdown",
   "metadata": {},
   "source": [
    "7. Write a Python program to read a file line by line store it into an array.\n"
   ]
  },
  {
   "cell_type": "code",
   "execution_count": 13,
   "metadata": {},
   "outputs": [
    {
     "name": "stdout",
     "output_type": "stream",
     "text": [
      "['What is information technology?\\n', 'Information technology (IT) is the use of computers, storage, networking and other physical devices, infrastructure and processes to create, process, store, secure and exchange all forms of electronic data. Typically, IT is used in the context of business operations, as opposed to the technology used for personal or entertainment purposes. The commercial use of IT encompasses both computer technology and telecommunications.\\n', '\\n', 'Harvard Business Review coined the term information technology in 1958 to distinguish between purpose-built machines designed to perform a limited scope of functions and general-purpose computing machines that could be programmed for various tasks. As the IT industry evolved from the mid-20th century, computing capability increased, while device cost and energy consumption decreased, a cycle that continues today when new technologies emerge.\\n', '\\n', 'Types of information technology\\n', 'Information technology encompasses a wide range of technologies and systems that are used to store, retrieve, process and transmit data for specific use cases.\\n', '\\n', 'Common information technology types include the following:\\n', '\\n', 'Internet and web technologies. This includes the tools and protocols used to access, navigate and interact with information on the internet. Examples include web browsers, websites, web servers, Hypertext Markup Language, cascading style sheets, JavaScript, HTTP and other internet-related technologies.\\n', 'Cloud computing. This involves the delivery of computing resources and services over the internet on a pay-per-use basis. This can include infrastructure as a service, platform as a service, software as a service and cloud storage options.\\n', 'Databases. This includes IT systems and software used to store, organize and retrieve data. Examples include MySQL, NoSQL, relational database management systems and MongoDB.\\n', 'Artificial intelligence and machine learning. AI and ML-based IT technologies use algorithms and statistical models to enable computers to perform tasks that typically require human intelligence. Examples include speech recognition, image recognition and natural language processing.\\n', 'Cybersecurity. This type of IT includes technologies and best practices designed to protect IT systems, networks and data from unauthorized access, cyber attacks and other security threats. Cybersecurity can be enforced through firewalls, antivirus software, encryption, intrusion detection systems and security policies.\\n', 'Internet of things. This includes the network of interconnected devices and sensors that collect, exchange and analyze data. IoT technologies enable the integration of physical objects into computer systems, providing automation, monitoring and control in various domains.\\n', 'IT governance. This involves making policies and rules for the organization to ensure effective operation.\\n', 'Data analytics and business intelligence. BI focuses on tools and techniques for extracting insights from large data sets to support decision-making and business operations. This can include data mining, statistical analysis, data visualization and predictive modeling.\\n', 'What does information technology encompass?\\n', \"The IT department ensures that the organization's systems, networks, applications, data and information all connect and function properly. The IT team handles the following three major areas:I think this info will be useful\\n\"]\n"
     ]
    }
   ],
   "source": [
    "def read_store_variable(file):\n",
    "    ls = []\n",
    "    with open(file) as f:\n",
    "        lines = f.readlines()  \n",
    "        ls.extend(lines) \n",
    "    return ls\n",
    "\n",
    "result = read_store_variable(\"text.txt\")\n",
    "print(result)  \n"
   ]
  },
  {
   "cell_type": "markdown",
   "metadata": {},
   "source": [
    "8. Write a python program to find the longest words.\n"
   ]
  },
  {
   "cell_type": "code",
   "execution_count": 15,
   "metadata": {},
   "outputs": [
    {
     "name": "stdout",
     "output_type": "stream",
     "text": [
      "['telecommunications.']\n"
     ]
    }
   ],
   "source": [
    "def find_max_len(file):\n",
    "    with open(file, \"r\") as f:\n",
    "        words = f.read().split()\n",
    "    max_len = max(len(word) for word in words)\n",
    "    max_word = [word for word in words if len(word) == max_len]\n",
    "    return max_word\n",
    "\n",
    "print(find_max_len(\"text.txt\"))\n"
   ]
  },
  {
   "cell_type": "markdown",
   "metadata": {},
   "source": [
    "9. Write a Python program to count the number of lines in a text file.\n"
   ]
  },
  {
   "cell_type": "code",
   "execution_count": 16,
   "metadata": {},
   "outputs": [
    {
     "data": {
      "text/plain": [
       "20"
      ]
     },
     "execution_count": 16,
     "metadata": {},
     "output_type": "execute_result"
    }
   ],
   "source": [
    "def count_lines(file):\n",
    "    with open(file, \"r\") as f:\n",
    "        lines = f.readlines()\n",
    "    counting = len(lines)\n",
    "    return counting\n",
    "\n",
    "count_lines(\"text.txt\")"
   ]
  },
  {
   "cell_type": "markdown",
   "metadata": {},
   "source": [
    "10. Write a Python program to count the frequency of words in a file.\n"
   ]
  },
  {
   "cell_type": "code",
   "execution_count": 17,
   "metadata": {},
   "outputs": [
    {
     "name": "stdout",
     "output_type": "stream",
     "text": [
      "what: 2\n",
      "is: 3\n",
      "information: 9\n",
      "technology: 9\n",
      "(it): 1\n",
      "the: 19\n",
      "use: 4\n",
      "of: 12\n",
      "computers: 2\n",
      "storage: 2\n",
      "networking: 1\n",
      "and: 35\n",
      "other: 3\n",
      "physical: 2\n",
      "devices: 2\n",
      "infrastructure: 2\n",
      "processes: 1\n",
      "to: 12\n",
      "create: 1\n",
      "process: 2\n",
      "store: 3\n",
      "secure: 1\n",
      "exchange: 2\n",
      "all: 2\n",
      "forms: 1\n",
      "electronic: 1\n",
      "data: 10\n",
      "typically: 2\n",
      "it: 10\n",
      "used: 5\n",
      "in: 3\n",
      "context: 1\n",
      "business: 4\n",
      "operations: 2\n",
      "as: 5\n",
      "opposed: 1\n",
      "for: 5\n",
      "personal: 1\n",
      "or: 1\n",
      "entertainment: 1\n",
      "purposes: 1\n",
      "commercial: 1\n",
      "encompasses: 2\n",
      "both: 1\n",
      "computer: 2\n",
      "telecommunications: 1\n",
      "harvard: 1\n",
      "review: 1\n",
      "coined: 1\n",
      "term: 1\n",
      "1958: 1\n",
      "distinguish: 1\n",
      "between: 1\n",
      "purpose-built: 1\n",
      "machines: 2\n",
      "designed: 2\n",
      "perform: 2\n",
      "a: 7\n",
      "limited: 1\n",
      "scope: 1\n",
      "functions: 1\n",
      "general-purpose: 1\n",
      "computing: 4\n",
      "that: 6\n",
      "could: 1\n",
      "be: 3\n",
      "programmed: 1\n",
      "various: 2\n",
      "tasks: 2\n",
      "industry: 1\n",
      "evolved: 1\n",
      "from: 3\n",
      "mid-20th: 1\n",
      "century: 1\n",
      "capability: 1\n",
      "increased: 1\n",
      "while: 1\n",
      "device: 1\n",
      "cost: 1\n",
      "energy: 1\n",
      "consumption: 1\n",
      "decreased: 1\n",
      "cycle: 1\n",
      "continues: 1\n",
      "today: 1\n",
      "when: 1\n",
      "new: 1\n",
      "technologies: 7\n",
      "emerge: 1\n",
      "types: 2\n",
      "wide: 1\n",
      "range: 1\n",
      "systems: 7\n",
      "are: 1\n",
      "retrieve: 2\n",
      "transmit: 1\n",
      "specific: 1\n",
      "cases: 1\n",
      "common: 1\n",
      "include: 6\n",
      "following:: 1\n",
      "internet: 4\n",
      "web: 3\n",
      "this: 9\n",
      "includes: 4\n",
      "tools: 2\n",
      "protocols: 1\n",
      "access: 2\n",
      "navigate: 1\n",
      "interact: 1\n",
      "with: 1\n",
      "on: 3\n",
      "examples: 3\n",
      "browsers: 1\n",
      "websites: 1\n",
      "servers: 1\n",
      "hypertext: 1\n",
      "markup: 1\n",
      "language: 2\n",
      "cascading: 1\n",
      "style: 1\n",
      "sheets: 1\n",
      "javascript: 1\n",
      "http: 1\n",
      "internet-related: 1\n",
      "cloud: 2\n",
      "involves: 2\n",
      "delivery: 1\n",
      "resources: 1\n",
      "services: 1\n",
      "over: 1\n",
      "pay-per-use: 1\n",
      "basis: 1\n",
      "can: 3\n",
      "service: 3\n",
      "platform: 1\n",
      "software: 3\n",
      "options: 1\n",
      "databases: 1\n",
      "organize: 1\n",
      "mysql: 1\n",
      "nosql: 1\n",
      "relational: 1\n",
      "database: 1\n",
      "management: 1\n",
      "mongodb: 1\n",
      "artificial: 1\n",
      "intelligence: 3\n",
      "machine: 1\n",
      "learning: 1\n",
      "ai: 1\n",
      "ml-based: 1\n",
      "algorithms: 1\n",
      "statistical: 2\n",
      "models: 1\n",
      "enable: 2\n",
      "require: 1\n",
      "human: 1\n",
      "speech: 1\n",
      "recognition: 2\n",
      "image: 1\n",
      "natural: 1\n",
      "processing: 1\n",
      "cybersecurity: 2\n",
      "type: 1\n",
      "best: 1\n",
      "practices: 1\n",
      "protect: 1\n",
      "networks: 2\n",
      "unauthorized: 1\n",
      "cyber: 1\n",
      "attacks: 1\n",
      "security: 2\n",
      "threats: 1\n",
      "enforced: 1\n",
      "through: 1\n",
      "firewalls: 1\n",
      "antivirus: 1\n",
      "encryption: 1\n",
      "intrusion: 1\n",
      "detection: 1\n",
      "policies: 2\n",
      "things: 1\n",
      "network: 1\n",
      "interconnected: 1\n",
      "sensors: 1\n",
      "collect: 1\n",
      "analyze: 1\n",
      "iot: 1\n",
      "integration: 1\n",
      "objects: 1\n",
      "into: 1\n",
      "providing: 1\n",
      "automation: 1\n",
      "monitoring: 1\n",
      "control: 1\n",
      "domains: 1\n",
      "governance: 1\n",
      "making: 1\n",
      "rules: 1\n",
      "organization: 1\n",
      "ensure: 1\n",
      "effective: 1\n",
      "operation: 1\n",
      "analytics: 1\n",
      "bi: 1\n",
      "focuses: 1\n",
      "techniques: 1\n",
      "extracting: 1\n",
      "insights: 1\n",
      "large: 1\n",
      "sets: 1\n",
      "support: 1\n",
      "decision-making: 1\n",
      "mining: 1\n",
      "analysis: 1\n",
      "visualization: 1\n",
      "predictive: 1\n",
      "modeling: 1\n",
      "does: 1\n",
      "encompass: 1\n",
      "department: 1\n",
      "ensures: 1\n",
      "organization's: 1\n",
      "applications: 1\n",
      "connect: 1\n",
      "function: 1\n",
      "properly: 1\n",
      "team: 1\n",
      "handles: 1\n",
      "following: 1\n",
      "three: 1\n",
      "major: 1\n",
      "areas:i: 1\n",
      "think: 1\n",
      "info: 1\n",
      "will: 1\n",
      "useful: 1\n"
     ]
    }
   ],
   "source": [
    "def count_word_frequency(file_name):\n",
    "    word_freq = {}\n",
    "    \n",
    "    with open(file_name, 'r') as file:\n",
    "        for line in file:\n",
    "            words = line.split()\n",
    "            for word in words:\n",
    "                word = word.strip().lower().strip('.,!?\"\\'')\n",
    "                if word in word_freq:\n",
    "                    word_freq[word] += 1\n",
    "                else:\n",
    "                    word_freq[word] = 1\n",
    "    \n",
    "    return word_freq\n",
    "\n",
    "word_frequency = count_word_frequency(\"text.txt\")\n",
    "for word, freq in word_frequency.items():\n",
    "    print(f'{word}: {freq}')\n"
   ]
  },
  {
   "cell_type": "markdown",
   "metadata": {},
   "source": [
    "11. Write a Python program to get the file size of a plain file.\n"
   ]
  },
  {
   "cell_type": "code",
   "execution_count": 18,
   "metadata": {},
   "outputs": [
    {
     "data": {
      "text/plain": [
       "3424"
      ]
     },
     "execution_count": 18,
     "metadata": {},
     "output_type": "execute_result"
    }
   ],
   "source": [
    "def file_siz(file):\n",
    "    import os\n",
    "    file_size = os.path.getsize(file)\n",
    "    return file_size\n",
    "\n",
    "file_siz(\"text.txt\")\n",
    "\n"
   ]
  },
  {
   "cell_type": "markdown",
   "metadata": {},
   "source": [
    "12. Write a Python program to write a list to a file.\n"
   ]
  },
  {
   "cell_type": "code",
   "execution_count": 19,
   "metadata": {},
   "outputs": [
    {
     "name": "stdout",
     "output_type": "stream",
     "text": [
      "list was writen into the file\n"
     ]
    }
   ],
   "source": [
    "def writing_list(ls, file):\n",
    "    with open(file, \"w\") as f:\n",
    "        for word in ls:\n",
    "            f.write(f\"{word}/n\")\n",
    "\n",
    "writing_list = ([\"If it is useful, please share to your friends\"], \"text.txt\")\n",
    "print(f\"list was writen into the file\")\n",
    "\n"
   ]
  },
  {
   "cell_type": "markdown",
   "metadata": {},
   "source": [
    "13. Write a Python program to copy the contents of a file to another file .\n"
   ]
  },
  {
   "cell_type": "code",
   "execution_count": 20,
   "metadata": {},
   "outputs": [
    {
     "name": "stdout",
     "output_type": "stream",
     "text": [
      "The all contents was copied succesfully\n"
     ]
    }
   ],
   "source": [
    "def copy_content(first_file, second_file):\n",
    "    with open(first_file, \"r\") as f1:\n",
    "        content = f1.read()\n",
    "\n",
    "    with open(second_file, \"w\") as f2:\n",
    "        f2.write(content)\n",
    "\n",
    "copy_content(\"text.txt\", \"file_to_copy.txt\")\n",
    "print(\"The all contents was copied succesfully\")"
   ]
  },
  {
   "cell_type": "markdown",
   "metadata": {},
   "source": [
    "14. Write a Python program to combine each line from first file with the corresponding line in second file.\n"
   ]
  },
  {
   "cell_type": "code",
   "execution_count": 21,
   "metadata": {},
   "outputs": [
    {
     "name": "stdout",
     "output_type": "stream",
     "text": [
      "Two files were combined succesfully\n"
     ]
    }
   ],
   "source": [
    "def combining(first_file, second_file, combined_file):\n",
    "    with open(first_file, \"r\") as f1, open(second_file, \"r\") as f2, open(combined_file, \"w\") as f3:\n",
    "        for line1, line2 in zip(f1, f2):\n",
    "            f3.write(f\"{line1} {line2}/n\")\n",
    "\n",
    "combining(\"text.txt\", \"file_to_copy.txt\", \"combined_file.txt\")\n",
    "print(\"Two files were combined succesfully\")"
   ]
  },
  {
   "cell_type": "markdown",
   "metadata": {},
   "source": [
    "15. Write a Python program to read a random line from a file.\n"
   ]
  },
  {
   "cell_type": "code",
   "execution_count": 25,
   "metadata": {},
   "outputs": [
    {
     "name": "stdout",
     "output_type": "stream",
     "text": [
      "Random line: IT governance. This involves making policies and rules for the organization to ensure effective operation.\n"
     ]
    }
   ],
   "source": [
    "def reading_random_line(file):\n",
    "    import random\n",
    "    with open(file, \"r\") as f:\n",
    "        lines = f.readlines()\n",
    "        random_line = random.choice(lines).strip()\n",
    "    print(f\"Random line: {random_line}\")\n",
    "\n",
    "reading_random_line(\"text.txt\")"
   ]
  },
  {
   "cell_type": "markdown",
   "metadata": {},
   "source": [
    "16. Write a Python program to assess if a file is closed or not.\n"
   ]
  },
  {
   "cell_type": "code",
   "execution_count": 26,
   "metadata": {},
   "outputs": [
    {
     "name": "stdout",
     "output_type": "stream",
     "text": [
      "Is the file 'text.txt' closed? Yes\n"
     ]
    }
   ],
   "source": [
    "def is_file_closed(file_name):\n",
    "    file = open(file_name, 'r')\n",
    "    file.close()\n",
    "    return file.closed\n",
    "\n",
    "file_name = 'text.txt'\n",
    "print(f\"Is the file '{file_name}' closed? {'Yes' if is_file_closed(file_name) else 'No'}\")\n"
   ]
  },
  {
   "cell_type": "markdown",
   "metadata": {},
   "source": [
    "17. Write a Python program to remove newline characters from a file.\n"
   ]
  },
  {
   "cell_type": "code",
   "execution_count": 27,
   "metadata": {},
   "outputs": [
    {
     "name": "stdout",
     "output_type": "stream",
     "text": [
      "New lines were removed and saved to ouput_file.txt\n"
     ]
    }
   ],
   "source": [
    "def remove_newline(org_file, output_file):\n",
    "    with open(org_file, \"r\") as f1:\n",
    "        content = f1.read()\n",
    "\n",
    "    content1 = content.replace(\"\\n\", \"\")\n",
    "\n",
    "    with open(output_file, \"w\") as f2:\n",
    "        f2.write(content1)\n",
    "\n",
    "    print(f\"New lines were removed and saved to {output_file}\")\n",
    "\n",
    "remove_newline(\"text.txt\", \"ouput_file.txt\")"
   ]
  },
  {
   "cell_type": "markdown",
   "metadata": {},
   "source": [
    "18. Write a Python program that takes a text file as input and returns the number of words of a given text file.\n",
    "Note: Some words can be separated by a comma with no space.\n"
   ]
  },
  {
   "cell_type": "code",
   "execution_count": 29,
   "metadata": {},
   "outputs": [
    {
     "name": "stdout",
     "output_type": "stream",
     "text": [
      "923\n"
     ]
    }
   ],
   "source": [
    "def count_words(file):\n",
    "   with open(file) as f:\n",
    "       content = f.read()\n",
    "       content.replace(\",\", \" \")\n",
    "       return len(content.split(\" \"))\n",
    "print(count_words(\"combined_file.txt\"))"
   ]
  },
  {
   "cell_type": "markdown",
   "metadata": {},
   "source": [
    "19. Write a Python program to extract characters from various text files and puts them into a list.\n"
   ]
  },
  {
   "cell_type": "code",
   "execution_count": 1,
   "metadata": {},
   "outputs": [
    {
     "name": "stdout",
     "output_type": "stream",
     "text": [
      "[\"What is information technology?\\n What is information technology?\\n/nInformation technology (IT) is the use of computers, storage, networking and other physical devices, infrastructure and processes to create, process, store, secure and exchange all forms of electronic data. Typically, IT is used in the context of business operations, as opposed to the technology used for personal or entertainment purposes. The commercial use of IT encompasses both computer technology and telecommunications.\\n Information technology (IT) is the use of computers, storage, networking and other physical devices, infrastructure and processes to create, process, store, secure and exchange all forms of electronic data. Typically, IT is used in the context of business operations, as opposed to the technology used for personal or entertainment purposes. The commercial use of IT encompasses both computer technology and telecommunications.\\n/n\\n \\n/nHarvard Business Review coined the term information technology in 1958 to distinguish between purpose-built machines designed to perform a limited scope of functions and general-purpose computing machines that could be programmed for various tasks. As the IT industry evolved from the mid-20th century, computing capability increased, while device cost and energy consumption decreased, a cycle that continues today when new technologies emerge.\\n Harvard Business Review coined the term information technology in 1958 to distinguish between purpose-built machines designed to perform a limited scope of functions and general-purpose computing machines that could be programmed for various tasks. As the IT industry evolved from the mid-20th century, computing capability increased, while device cost and energy consumption decreased, a cycle that continues today when new technologies emerge.\\n/n\\n \\n/nTypes of information technology\\n Types of information technology\\n/nInformation technology encompasses a wide range of technologies and systems that are used to store, retrieve, process and transmit data for specific use cases.\\n Information technology encompasses a wide range of technologies and systems that are used to store, retrieve, process and transmit data for specific use cases.\\n/n\\n \\n/nCommon information technology types include the following:\\n Common information technology types include the following:\\n/n\\n \\n/nInternet and web technologies. This includes the tools and protocols used to access, navigate and interact with information on the internet. Examples include web browsers, websites, web servers, Hypertext Markup Language, cascading style sheets, JavaScript, HTTP and other internet-related technologies.\\n Internet and web technologies. This includes the tools and protocols used to access, navigate and interact with information on the internet. Examples include web browsers, websites, web servers, Hypertext Markup Language, cascading style sheets, JavaScript, HTTP and other internet-related technologies.\\n/nCloud computing. This involves the delivery of computing resources and services over the internet on a pay-per-use basis. This can include infrastructure as a service, platform as a service, software as a service and cloud storage options.\\n Cloud computing. This involves the delivery of computing resources and services over the internet on a pay-per-use basis. This can include infrastructure as a service, platform as a service, software as a service and cloud storage options.\\n/nDatabases. This includes IT systems and software used to store, organize and retrieve data. Examples include MySQL, NoSQL, relational database management systems and MongoDB.\\n Databases. This includes IT systems and software used to store, organize and retrieve data. Examples include MySQL, NoSQL, relational database management systems and MongoDB.\\n/nArtificial intelligence and machine learning. AI and ML-based IT technologies use algorithms and statistical models to enable computers to perform tasks that typically require human intelligence. Examples include speech recognition, image recognition and natural language processing.\\n Artificial intelligence and machine learning. AI and ML-based IT technologies use algorithms and statistical models to enable computers to perform tasks that typically require human intelligence. Examples include speech recognition, image recognition and natural language processing.\\n/nCybersecurity. This type of IT includes technologies and best practices designed to protect IT systems, networks and data from unauthorized access, cyber attacks and other security threats. Cybersecurity can be enforced through firewalls, antivirus software, encryption, intrusion detection systems and security policies.\\n Cybersecurity. This type of IT includes technologies and best practices designed to protect IT systems, networks and data from unauthorized access, cyber attacks and other security threats. Cybersecurity can be enforced through firewalls, antivirus software, encryption, intrusion detection systems and security policies.\\n/nInternet of things. This includes the network of interconnected devices and sensors that collect, exchange and analyze data. IoT technologies enable the integration of physical objects into computer systems, providing automation, monitoring and control in various domains.\\n Internet of things. This includes the network of interconnected devices and sensors that collect, exchange and analyze data. IoT technologies enable the integration of physical objects into computer systems, providing automation, monitoring and control in various domains.\\n/nIT governance. This involves making policies and rules for the organization to ensure effective operation.\\n IT governance. This involves making policies and rules for the organization to ensure effective operation.\\n/nData analytics and business intelligence. BI focuses on tools and techniques for extracting insights from large data sets to support decision-making and business operations. This can include data mining, statistical analysis, data visualization and predictive modeling.\\n Data analytics and business intelligence. BI focuses on tools and techniques for extracting insights from large data sets to support decision-making and business operations. This can include data mining, statistical analysis, data visualization and predictive modeling.\\n/nWhat does information technology encompass?\\n What does information technology encompass?\\n/nThe IT department ensures that the organization's systems, networks, applications, data and information all connect and function properly. The IT team handles the following three major areas:I think this info will be useful\\n The IT department ensures that the organization's systems, networks, applications, data and information all connect and function properly. The IT team handles the following three major areas:I think this info will be useful\\n/n\", \"What is information technology?\\nInformation technology (IT) is the use of computers, storage, networking and other physical devices, infrastructure and processes to create, process, store, secure and exchange all forms of electronic data. Typically, IT is used in the context of business operations, as opposed to the technology used for personal or entertainment purposes. The commercial use of IT encompasses both computer technology and telecommunications.\\n\\nHarvard Business Review coined the term information technology in 1958 to distinguish between purpose-built machines designed to perform a limited scope of functions and general-purpose computing machines that could be programmed for various tasks. As the IT industry evolved from the mid-20th century, computing capability increased, while device cost and energy consumption decreased, a cycle that continues today when new technologies emerge.\\n\\nTypes of information technology\\nInformation technology encompasses a wide range of technologies and systems that are used to store, retrieve, process and transmit data for specific use cases.\\n\\nCommon information technology types include the following:\\n\\nInternet and web technologies. This includes the tools and protocols used to access, navigate and interact with information on the internet. Examples include web browsers, websites, web servers, Hypertext Markup Language, cascading style sheets, JavaScript, HTTP and other internet-related technologies.\\nCloud computing. This involves the delivery of computing resources and services over the internet on a pay-per-use basis. This can include infrastructure as a service, platform as a service, software as a service and cloud storage options.\\nDatabases. This includes IT systems and software used to store, organize and retrieve data. Examples include MySQL, NoSQL, relational database management systems and MongoDB.\\nArtificial intelligence and machine learning. AI and ML-based IT technologies use algorithms and statistical models to enable computers to perform tasks that typically require human intelligence. Examples include speech recognition, image recognition and natural language processing.\\nCybersecurity. This type of IT includes technologies and best practices designed to protect IT systems, networks and data from unauthorized access, cyber attacks and other security threats. Cybersecurity can be enforced through firewalls, antivirus software, encryption, intrusion detection systems and security policies.\\nInternet of things. This includes the network of interconnected devices and sensors that collect, exchange and analyze data. IoT technologies enable the integration of physical objects into computer systems, providing automation, monitoring and control in various domains.\\nIT governance. This involves making policies and rules for the organization to ensure effective operation.\\nData analytics and business intelligence. BI focuses on tools and techniques for extracting insights from large data sets to support decision-making and business operations. This can include data mining, statistical analysis, data visualization and predictive modeling.\\nWhat does information technology encompass?\\nThe IT department ensures that the organization's systems, networks, applications, data and information all connect and function properly. The IT team handles the following three major areas:I think this info will be useful\\n\", \"What is information technology?Information technology (IT) is the use of computers, storage, networking and other physical devices, infrastructure and processes to create, process, store, secure and exchange all forms of electronic data. Typically, IT is used in the context of business operations, as opposed to the technology used for personal or entertainment purposes. The commercial use of IT encompasses both computer technology and telecommunications.Harvard Business Review coined the term information technology in 1958 to distinguish between purpose-built machines designed to perform a limited scope of functions and general-purpose computing machines that could be programmed for various tasks. As the IT industry evolved from the mid-20th century, computing capability increased, while device cost and energy consumption decreased, a cycle that continues today when new technologies emerge.Types of information technologyInformation technology encompasses a wide range of technologies and systems that are used to store, retrieve, process and transmit data for specific use cases.Common information technology types include the following:Internet and web technologies. This includes the tools and protocols used to access, navigate and interact with information on the internet. Examples include web browsers, websites, web servers, Hypertext Markup Language, cascading style sheets, JavaScript, HTTP and other internet-related technologies.Cloud computing. This involves the delivery of computing resources and services over the internet on a pay-per-use basis. This can include infrastructure as a service, platform as a service, software as a service and cloud storage options.Databases. This includes IT systems and software used to store, organize and retrieve data. Examples include MySQL, NoSQL, relational database management systems and MongoDB.Artificial intelligence and machine learning. AI and ML-based IT technologies use algorithms and statistical models to enable computers to perform tasks that typically require human intelligence. Examples include speech recognition, image recognition and natural language processing.Cybersecurity. This type of IT includes technologies and best practices designed to protect IT systems, networks and data from unauthorized access, cyber attacks and other security threats. Cybersecurity can be enforced through firewalls, antivirus software, encryption, intrusion detection systems and security policies.Internet of things. This includes the network of interconnected devices and sensors that collect, exchange and analyze data. IoT technologies enable the integration of physical objects into computer systems, providing automation, monitoring and control in various domains.IT governance. This involves making policies and rules for the organization to ensure effective operation.Data analytics and business intelligence. BI focuses on tools and techniques for extracting insights from large data sets to support decision-making and business operations. This can include data mining, statistical analysis, data visualization and predictive modeling.What does information technology encompass?The IT department ensures that the organization's systems, networks, applications, data and information all connect and function properly. The IT team handles the following three major areas:I think this info will be useful\", \"What is information technology?\\nInformation technology (IT) is the use of computers, storage, networking and other physical devices, infrastructure and processes to create, process, store, secure and exchange all forms of electronic data. Typically, IT is used in the context of business operations, as opposed to the technology used for personal or entertainment purposes. The commercial use of IT encompasses both computer technology and telecommunications.\\n\\nHarvard Business Review coined the term information technology in 1958 to distinguish between purpose-built machines designed to perform a limited scope of functions and general-purpose computing machines that could be programmed for various tasks. As the IT industry evolved from the mid-20th century, computing capability increased, while device cost and energy consumption decreased, a cycle that continues today when new technologies emerge.\\n\\nTypes of information technology\\nInformation technology encompasses a wide range of technologies and systems that are used to store, retrieve, process and transmit data for specific use cases.\\n\\nCommon information technology types include the following:\\n\\nInternet and web technologies. This includes the tools and protocols used to access, navigate and interact with information on the internet. Examples include web browsers, websites, web servers, Hypertext Markup Language, cascading style sheets, JavaScript, HTTP and other internet-related technologies.\\nCloud computing. This involves the delivery of computing resources and services over the internet on a pay-per-use basis. This can include infrastructure as a service, platform as a service, software as a service and cloud storage options.\\nDatabases. This includes IT systems and software used to store, organize and retrieve data. Examples include MySQL, NoSQL, relational database management systems and MongoDB.\\nArtificial intelligence and machine learning. AI and ML-based IT technologies use algorithms and statistical models to enable computers to perform tasks that typically require human intelligence. Examples include speech recognition, image recognition and natural language processing.\\nCybersecurity. This type of IT includes technologies and best practices designed to protect IT systems, networks and data from unauthorized access, cyber attacks and other security threats. Cybersecurity can be enforced through firewalls, antivirus software, encryption, intrusion detection systems and security policies.\\nInternet of things. This includes the network of interconnected devices and sensors that collect, exchange and analyze data. IoT technologies enable the integration of physical objects into computer systems, providing automation, monitoring and control in various domains.\\nIT governance. This involves making policies and rules for the organization to ensure effective operation.\\nData analytics and business intelligence. BI focuses on tools and techniques for extracting insights from large data sets to support decision-making and business operations. This can include data mining, statistical analysis, data visualization and predictive modeling.\\nWhat does information technology encompass?\\nThe IT department ensures that the organization's systems, networks, applications, data and information all connect and function properly. The IT team handles the following three major areas:I think this info will be useful\\n\"]\n"
     ]
    }
   ],
   "source": [
    "import glob\n",
    "char_list = []\n",
    "files_list = glob.glob(\"*.txt\")\n",
    "for file_elem in files_list:\n",
    "   with open(file_elem, \"r\") as f:\n",
    "       char_list.append(f.read())\n",
    "print(char_list)\n",
    "\n",
    "# Shu kabi librarylar ko'p foydalanib ketilgan ekan.\n"
   ]
  },
  {
   "cell_type": "markdown",
   "metadata": {},
   "source": [
    "20. Write a Python program to generate 26 text files named A.txt, B.txt, and so on up to Z.txt.\n"
   ]
  },
  {
   "cell_type": "code",
   "execution_count": 2,
   "metadata": {},
   "outputs": [
    {
     "name": "stdout",
     "output_type": "stream",
     "text": [
      "26 text files generated.\n"
     ]
    }
   ],
   "source": [
    "import string\n",
    "\n",
    "def generate_files():\n",
    "    for letter in string.ascii_uppercase:\n",
    "        file_name = f\"{letter}.txt\"\n",
    "        with open(file_name, 'w') as file:\n",
    "            file.write()\n",
    "\n",
    "generate_files()\n",
    "print(\"26 text files generated.\")\n"
   ]
  },
  {
   "cell_type": "markdown",
   "metadata": {},
   "source": [
    "21. Write a Python program to create a file where all letters of English alphabet are listed by specified number of letters on each line.\n"
   ]
  },
  {
   "cell_type": "code",
   "execution_count": 3,
   "metadata": {},
   "outputs": [],
   "source": [
    "import string\n",
    "def letters_file_line(n):\n",
    "   with open(\"file_to_copy.txt\", \"w\") as f:\n",
    "       alphabet = string.ascii_uppercase\n",
    "       letters = [alphabet[i:i + n] + \"\\n\" for i in range(0, len(alphabet), n)]\n",
    "       f.writelines(letters)\n",
    "letters_file_line(3)\n"
   ]
  },
  {
   "cell_type": "markdown",
   "metadata": {},
   "source": [
    "<font size=\"5\" color=\"white\">Python Exception Handling [ 10 exercises with solution ]</font>"
   ]
  },
  {
   "cell_type": "markdown",
   "metadata": {},
   "source": [
    "1. Write a Python program to handle a ZeroDivisionError exception when dividing a number by zero.\n",
    "\n"
   ]
  },
  {
   "cell_type": "code",
   "execution_count": 1,
   "metadata": {},
   "outputs": [
    {
     "name": "stdout",
     "output_type": "stream",
     "text": [
      "Do you want to devide 2 by zero?\n"
     ]
    }
   ],
   "source": [
    "def handle_zero(a, b):\n",
    "    try:\n",
    "        devision = a/b\n",
    "        print(f\"{a}/{b} = {devision}\")\n",
    "    except ZeroDivisionError:\n",
    "        print(f\"Do you want to devide {a} by zero?\")\n",
    "\n",
    "handle_zero(2, 0)"
   ]
  },
  {
   "cell_type": "markdown",
   "metadata": {},
   "source": [
    "2. Write a Python program that prompts the user to input an integer and raises a ValueError exception if the input is not a valid integer.\n",
    "\n"
   ]
  },
  {
   "cell_type": "code",
   "execution_count": 3,
   "metadata": {},
   "outputs": [
    {
     "name": "stdout",
     "output_type": "stream",
     "text": [
      "You can enter only integer\n"
     ]
    }
   ],
   "source": [
    "def value(n):\n",
    "    try:\n",
    "          val = int(input(n))\n",
    "          return val   \n",
    "    except ValueError:\n",
    "           print(\"You can enter only integer\")\n",
    "\n",
    "value(\"a\")"
   ]
  },
  {
   "cell_type": "markdown",
   "metadata": {},
   "source": [
    "3. Write a Python program that opens a file and handles a FileNotFoundError exception if the file does not exist.\n",
    "\n"
   ]
  },
  {
   "cell_type": "code",
   "execution_count": 5,
   "metadata": {},
   "outputs": [
    {
     "name": "stdout",
     "output_type": "stream",
     "text": [
      "ff.txt does not exist\n"
     ]
    }
   ],
   "source": [
    "def opening_file(file):\n",
    "    try:\n",
    "        with open(file, \"r\") as f:\n",
    "             reading = f.read()\n",
    "             return reading\n",
    "    except FileNotFoundError:\n",
    "        print(f\"{file} does not exist\")\n",
    "\n",
    "opening_file(\"ff.txt\")"
   ]
  },
  {
   "cell_type": "markdown",
   "metadata": {},
   "source": [
    "4. Write a Python program that prompts the user to input two numbers and raises a TypeError exception if the inputs are not numerical.\n",
    "\n"
   ]
  },
  {
   "cell_type": "code",
   "execution_count": 7,
   "metadata": {},
   "outputs": [],
   "source": [
    "def input_numbers():\n",
    "    try:\n",
    "        num1 = input(\"Enter the first number: \")\n",
    "        num2 = input(\"Enter the second number: \")\n",
    "\n",
    "        num1 = float(num1)\n",
    "        num2 = float(num2)\n",
    "\n",
    "        print(f\"The first number is {num1} and the second number is {num2}\")\n",
    "\n",
    "    except ValueError:\n",
    "        raise TypeError(\"Both inputs must be numerical.\")\n",
    "\n",
    "input_numbers()\n"
   ]
  },
  {
   "cell_type": "markdown",
   "metadata": {},
   "source": [
    "5. Write a Python program that opens a file and handles a PermissionError exception if there is a permission issue.\n",
    "\n"
   ]
  },
  {
   "cell_type": "code",
   "execution_count": null,
   "metadata": {},
   "outputs": [],
   "source": [
    "def open_file(file_name):\n",
    "    try:\n",
    "        with open(file_name, 'r') as file:\n",
    "            content = file.read()\n",
    "            print(content)\n",
    "    except PermissionError:\n",
    "        print(f\"Unable to open the file '{file_name}' due to permission issues.\")\n",
    "\n",
    "file_name = 'example.txt'\n",
    "open_file(file_name)\n"
   ]
  },
  {
   "cell_type": "markdown",
   "metadata": {},
   "source": [
    "6. Write a Python program that executes an operation on a list and handles an IndexError exception if the index is out of range.\n",
    "\n"
   ]
  },
  {
   "cell_type": "code",
   "execution_count": 9,
   "metadata": {},
   "outputs": [
    {
     "name": "stdout",
     "output_type": "stream",
     "text": [
      "IndexError: Index 10 is out of range for the list.\n"
     ]
    }
   ],
   "source": [
    "def get_element_from_list(my_list, index):\n",
    "    try:\n",
    "        element = my_list[index]\n",
    "        print(f\"Element at index {index} is {element}\")\n",
    "    except IndexError:\n",
    "        print(f\"IndexError: Index {index} is out of range for the list.\")\n",
    "\n",
    "my_list = [1, 2, 3, 4, 5]\n",
    "index = 10\n",
    "get_element_from_list(my_list, index)\n"
   ]
  },
  {
   "cell_type": "markdown",
   "metadata": {},
   "source": [
    "7. Write a Python program that prompts the user to input a number and handles a KeyboardInterrupt exception if the user cancels the input.\n",
    "\n"
   ]
  },
  {
   "cell_type": "code",
   "execution_count": 10,
   "metadata": {},
   "outputs": [
    {
     "name": "stdout",
     "output_type": "stream",
     "text": [
      "You entered: 3\n"
     ]
    }
   ],
   "source": [
    "def prompt_number():\n",
    "    try:\n",
    "        num = input(\"Enter a number: \")\n",
    "        print(f\"You entered: {num}\")\n",
    "    except KeyboardInterrupt:\n",
    "        print(\"\\nOperation cancelled by user.\")\n",
    "\n",
    "prompt_number()\n"
   ]
  },
  {
   "cell_type": "markdown",
   "metadata": {},
   "source": [
    "8. Write a Python program that executes division and handles an ArithmeticError exception if there is an arithmetic error.\n",
    "\n"
   ]
  },
  {
   "cell_type": "code",
   "execution_count": 11,
   "metadata": {},
   "outputs": [
    {
     "name": "stdout",
     "output_type": "stream",
     "text": [
      "An arithmetic error occurred: division by zero\n"
     ]
    }
   ],
   "source": [
    "def divide_numbers(a, b):\n",
    "    try:\n",
    "        result = a / b\n",
    "        print(f\"The result of {a} / {b} is {result}\")\n",
    "    except ArithmeticError as e:\n",
    "        print(f\"An arithmetic error occurred: {e}\")\n",
    "\n",
    "num1 = 10\n",
    "num2 = 0\n",
    "divide_numbers(num1, num2)\n"
   ]
  },
  {
   "cell_type": "markdown",
   "metadata": {},
   "source": [
    "9. Write a Python program that opens a file and handles a UnicodeDecodeError exception if there is an encoding issue.\n",
    "\n"
   ]
  },
  {
   "cell_type": "code",
   "execution_count": null,
   "metadata": {},
   "outputs": [],
   "source": [
    "def read_file_with_handling(file):\n",
    "    try:\n",
    "        with open(file, 'r') as f:\n",
    "            content = f.read()\n",
    "            print(content)\n",
    "    except UnicodeDecodeError as e:\n",
    "        print(f\"UnicodeDecodeError: {e}. There might be an issue with the file encoding.\")\n",
    "\n",
    "file_name = 'example.txt'\n",
    "read_file_with_handling(file_name)\n"
   ]
  },
  {
   "cell_type": "markdown",
   "metadata": {},
   "source": [
    "10. Write a Python program that executes a list operation and handles an AttributeError exception if the attribute does not exist.\n",
    "\n"
   ]
  },
  {
   "cell_type": "code",
   "execution_count": 12,
   "metadata": {},
   "outputs": [
    {
     "name": "stdout",
     "output_type": "stream",
     "text": [
      "AttributeError: 'list' object has no attribute 'append_item'. The 'append_item' attribute does not exist in list objects.\n"
     ]
    }
   ],
   "source": [
    "def perform_list_operation(ls):\n",
    "    try:\n",
    "        ls.append_item(10)\n",
    "    except AttributeError as e:\n",
    "        print(f\"AttributeError: {e}. The 'append_item' attribute does not exist in list objects.\")\n",
    "\n",
    "perform_list_operation([1, 2, 3, 4, 5])\n"
   ]
  },
  {
   "cell_type": "markdown",
   "metadata": {},
   "source": [
    "<font size=\"5\" color=\"white\">Car class</font>"
   ]
  },
  {
   "cell_type": "code",
   "execution_count": 16,
   "metadata": {},
   "outputs": [
    {
     "name": "stdout",
     "output_type": "stream",
     "text": [
      "You pressed the gas button and speed was changed to: 5\n",
      "You pressed the gas button and speed was changed to: 10\n",
      "You pressed the brake button and speed was changed to: 5\n",
      "You pressed the brake button and speed was changed to: 0\n"
     ]
    }
   ],
   "source": [
    "class Car:\n",
    "    def __init__(self, yearModel, make):\n",
    "        self.yearModel = yearModel\n",
    "        self.make = make\n",
    "        self.speed = 0\n",
    "\n",
    "    def accelerate(self):\n",
    "        self.speed += 5\n",
    "\n",
    "    def brake(self):\n",
    "        self.speed -= 5\n",
    "\n",
    "car1 = Car(2003, \"Mercedes-Benz\")\n",
    "\n",
    "for sp in range(2):\n",
    "    car1.accelerate()\n",
    "    print(f\"You pressed the gas button and speed was changed to: {car1.speed}\")\n",
    "\n",
    "for sp in range(2):\n",
    "    car1.brake()\n",
    "    print(f\"You pressed the brake button and speed was changed to: {car1.speed}\")\n"
   ]
  },
  {
   "cell_type": "markdown",
   "metadata": {},
   "source": [
    "<font size=\"5\" color=\"white\">Model a Farm</font>"
   ]
  },
  {
   "cell_type": "code",
   "execution_count": 18,
   "metadata": {},
   "outputs": [],
   "source": [
    "class Animal:\n",
    "    def __init__(self, name, age, weight, health):\n",
    "        self.name = name\n",
    "        self.age = age\n",
    "        self.weight = weight\n",
    "        self.health = health\n",
    "\n",
    "    def eat(self):\n",
    "        print(f\"{self.name} is eating.\")\n",
    "\n",
    "    def sleep(self):\n",
    "        print(f\"{self.name} is sleeping.\")\n",
    "\n",
    "    def walk(self):\n",
    "        print(f\"{self.name} is walking.\")\n",
    "\n",
    "\n",
    "class Cow(Animal):\n",
    "    def __init__(self, name, age, weight, health, milks):\n",
    "        super().__init__(name, age, weight, health)\n",
    "        self.milks = milks\n",
    "\n",
    "    def milk(self):\n",
    "        print(f\"{self.name} is producing {self.milks} liters of milk.\")\n",
    "\n",
    "\n",
    "class Chicken(Animal):\n",
    "    def __init__(self, name, age, weight, health, eggs):\n",
    "        super().__init__(name, age, weight, health)\n",
    "        self.eggs = eggs\n",
    "\n",
    "    def egg(self):\n",
    "        print(f\"{self.name} gave birth {self.eggs} eggs.\")\n",
    "\n",
    "\n",
    "class Horse(Animal):\n",
    "    def __init__(self, name, age, weight, health, speed):\n",
    "        super().__init__(name, age, weight, health)\n",
    "        self.speed = speed\n",
    "\n",
    "    def run(self):\n",
    "        print(f\"{self.name} is running at a speed of {self.speed} km/h.\")"
   ]
  },
  {
   "cell_type": "code",
   "execution_count": 19,
   "metadata": {},
   "outputs": [
    {
     "name": "stdout",
     "output_type": "stream",
     "text": [
      "Milky is eating.\n",
      "Milky is producing 5 liters of milk.\n",
      "Picky is sleeping.\n",
      "Picky gave birth 3 eggs.\n",
      "Light is walking.\n",
      "Light is running at a speed of 70 km/h.\n"
     ]
    }
   ],
   "source": [
    "cow1 = Cow(\"Milky\", 5, 330, \"Perfect\", 5)\n",
    "chicken1 = Chicken(\"Picky\", 1, 4, \"Not bad\", 3)\n",
    "horse1 = Horse(\"Light\", 4, 500, \"Healthy\", 70)\n",
    "\n",
    "cow1.eat()\n",
    "cow1.milk()\n",
    "\n",
    "chicken1.sleep()\n",
    "chicken1.egg()\n",
    "\n",
    "horse1.walk()\n",
    "horse1.run()"
   ]
  }
 ],
 "metadata": {
  "kernelspec": {
   "display_name": "Python 3",
   "language": "python",
   "name": "python3"
  },
  "language_info": {
   "codemirror_mode": {
    "name": "ipython",
    "version": 3
   },
   "file_extension": ".py",
   "mimetype": "text/x-python",
   "name": "python",
   "nbconvert_exporter": "python",
   "pygments_lexer": "ipython3",
   "version": "3.12.6"
  }
 },
 "nbformat": 4,
 "nbformat_minor": 2
}

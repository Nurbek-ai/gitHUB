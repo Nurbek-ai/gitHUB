{
 "cells": [
  {
   "cell_type": "markdown",
   "metadata": {},
   "source": [
    "#Number Data Type (8 Questions)"
   ]
  },
  {
   "cell_type": "markdown",
   "metadata": {},
   "source": [
    "1. Create a program that takes a float number as input and rounds it to 2 decimal places."
   ]
  },
  {
   "cell_type": "code",
   "execution_count": 16,
   "metadata": {},
   "outputs": [
    {
     "data": {
      "text/plain": [
       "9.68"
      ]
     },
     "execution_count": 16,
     "metadata": {},
     "output_type": "execute_result"
    }
   ],
   "source": [
    "def decimals(number):\n",
    "    rounded_number = builtins.round(number, 2)\n",
    "    return rounded_number\n",
    "\n",
    "import builtins\n",
    "decimals(9.678686867)\n",
    "\n"
   ]
  },
  {
   "cell_type": "markdown",
   "metadata": {},
   "source": [
    "2. Write a Python file that asks for three numbers and outputs the largest and smallest."
   ]
  },
  {
   "cell_type": "code",
   "execution_count": 20,
   "metadata": {},
   "outputs": [
    {
     "name": "stdout",
     "output_type": "stream",
     "text": [
      "Biggest: 5\n",
      "Smallest: 3\n"
     ]
    }
   ],
   "source": [
    "def threenums(a, b, c):\n",
    "    big = max(a, b, c)\n",
    "    small = min(a, b, c)\n",
    "\n",
    "    print(f\"Biggest: {big}\")\n",
    "    print(f\"Smallest: {small}\")\n",
    "\n",
    "threenums(3, 4, 5)"
   ]
  },
  {
   "cell_type": "markdown",
   "metadata": {},
   "source": [
    "3. Create a program that converts kilometers to meters and centimeters."
   ]
  },
  {
   "cell_type": "code",
   "execution_count": 23,
   "metadata": {},
   "outputs": [
    {
     "name": "stdout",
     "output_type": "stream",
     "text": [
      "120.2 kilometers are 120200.0 meter\n",
      "120.2 kilometers are 1202000.0 centimeters \n"
     ]
    }
   ],
   "source": [
    "def kilo(a):\n",
    "    meters = a*1000\n",
    "    centimeter = a*10000\n",
    "\n",
    "    print(f\"{a} kilometers are {meters} meter\")\n",
    "    print(f\"{a} kilometers are {centimeter} centimeters \")\n",
    "\n",
    "kilo(120.2)"
   ]
  },
  {
   "cell_type": "markdown",
   "metadata": {},
   "source": [
    "4. Write a program that takes two numbers and prints out the result of integer division and the remainder"
   ]
  },
  {
   "cell_type": "code",
   "execution_count": 24,
   "metadata": {},
   "outputs": [
    {
     "name": "stdout",
     "output_type": "stream",
     "text": [
      "The division is 6\n",
      "The remainder is 2\n"
     ]
    }
   ],
   "source": [
    "def division(a, b):\n",
    "    div = a//b\n",
    "    remainder = a%b\n",
    "    print(f\"The division is {div}\")\n",
    "    print(f\"The remainder is {remainder}\")\n",
    "\n",
    "division(20 ,3)"
   ]
  },
  {
   "cell_type": "markdown",
   "metadata": {},
   "source": [
    "5. Make a program that converts a given Celsius temperature to Fahrenheit."
   ]
  },
  {
   "cell_type": "code",
   "execution_count": 25,
   "metadata": {},
   "outputs": [
    {
     "name": "stdout",
     "output_type": "stream",
     "text": [
      "30 celsius is 86.0 fahrenheit\n"
     ]
    }
   ],
   "source": [
    "def temp(C):\n",
    "    F = C*9/5 + 32\n",
    "    print(f\"{C} celsius is {F} fahrenheit\")\n",
    "\n",
    "temp(30)"
   ]
  },
  {
   "cell_type": "markdown",
   "metadata": {},
   "source": [
    "6. Create a program that accepts a number and returns the last digit of that number."
   ]
  },
  {
   "cell_type": "code",
   "execution_count": 29,
   "metadata": {},
   "outputs": [
    {
     "name": "stdout",
     "output_type": "stream",
     "text": [
      "The last digit of 234 is 4\n"
     ]
    }
   ],
   "source": [
    "def num(a):\n",
    "    a_str = str(a)\n",
    "    last_digit = a_str[-1]\n",
    "    print(f\"The last digit of {a} is {last_digit}\")\n",
    "\n",
    "num(234)"
   ]
  },
  {
   "cell_type": "markdown",
   "metadata": {},
   "source": [
    "7. Create a program that takes a number and checks if it’s even or odd."
   ]
  },
  {
   "cell_type": "code",
   "execution_count": 31,
   "metadata": {},
   "outputs": [
    {
     "data": {
      "text/plain": [
       "'Odd'"
      ]
     },
     "execution_count": 31,
     "metadata": {},
     "output_type": "execute_result"
    }
   ],
   "source": [
    "def even_odd(a):\n",
    "    if a%2==0:\n",
    "        return \"Even\"\n",
    "    else:\n",
    "        return \"Odd\"\n",
    "    \n",
    "even_odd(13)\n"
   ]
  },
  {
   "cell_type": "markdown",
   "metadata": {},
   "source": [
    "8. Create a program that swaps the values of two variables."
   ]
  },
  {
   "cell_type": "code",
   "execution_count": 33,
   "metadata": {},
   "outputs": [
    {
     "name": "stdout",
     "output_type": "stream",
     "text": [
      "The new a is 4\n",
      "The new b is 3\n"
     ]
    }
   ],
   "source": [
    "def swap(a, b):\n",
    "    a,b=b,a\n",
    "    print(f\"The new a is {a}\")\n",
    "    print(f\"The new b is {b}\")\n",
    "\n",
    "swap(3 ,4)"
   ]
  },
  {
   "cell_type": "markdown",
   "metadata": {},
   "source": [
    "#String Data Type (18 Questions)"
   ]
  },
  {
   "cell_type": "markdown",
   "metadata": {},
   "source": [
    "1. Write a program to capitalize each word in a given sentence."
   ]
  },
  {
   "cell_type": "code",
   "execution_count": 35,
   "metadata": {},
   "outputs": [
    {
     "data": {
      "text/plain": [
       "'This Is A Test Sentence'"
      ]
     },
     "execution_count": 35,
     "metadata": {},
     "output_type": "execute_result"
    }
   ],
   "source": [
    "def capitalizes(sentence):\n",
    "    capitalized_sentence = ' '.join(i.capitalize() for i in sentence.split())\n",
    "    return capitalized_sentence\n",
    "\n",
    "capitalizes(\"this is a test sentence\") \n",
    "\n",
    "    "
   ]
  },
  {
   "cell_type": "markdown",
   "metadata": {},
   "source": [
    "2. Create a program that removes all vowels from a given string."
   ]
  },
  {
   "cell_type": "code",
   "execution_count": 38,
   "metadata": {},
   "outputs": [
    {
     "name": "stdout",
     "output_type": "stream",
     "text": [
      "Slm\n"
     ]
    }
   ],
   "source": [
    "def string(a):\n",
    "    vowels = \"aiuoeAEOUI\"\n",
    "    a1 = a  \n",
    "    for vowel in vowels:\n",
    "        a1 = a1.replace(vowel, '')\n",
    "    print(a1)\n",
    "\n",
    "string(\"Salom\")\n"
   ]
  },
  {
   "cell_type": "markdown",
   "metadata": {},
   "source": [
    "3. Create a program to reverse a string."
   ]
  },
  {
   "cell_type": "code",
   "execution_count": 39,
   "metadata": {},
   "outputs": [
    {
     "name": "stdout",
     "output_type": "stream",
     "text": [
      "Reversed word is droW\n"
     ]
    }
   ],
   "source": [
    "def reverse(a):\n",
    "    reversed = a[::-1]\n",
    "    print(f\"Reversed word is {reversed}\")\n",
    "\n",
    "reverse(\"Word\")"
   ]
  },
  {
   "cell_type": "markdown",
   "metadata": {},
   "source": [
    "4. Write a program to replace all spaces in a string with underscores."
   ]
  },
  {
   "cell_type": "code",
   "execution_count": 40,
   "metadata": {},
   "outputs": [
    {
     "name": "stdout",
     "output_type": "stream",
     "text": [
      "Underscored sentence: I_live_in_Denau\n"
     ]
    }
   ],
   "source": [
    "def underscore(a):\n",
    "    a1 = a.replace(' ', '_')\n",
    "    print(f'Underscored sentence: {a1}')\n",
    "\n",
    "underscore(\"I live in Denau\") "
   ]
  },
  {
   "cell_type": "markdown",
   "metadata": {},
   "source": [
    "5. Write a program to check if a given word is a palindrome."
   ]
  },
  {
   "cell_type": "code",
   "execution_count": 41,
   "metadata": {},
   "outputs": [
    {
     "data": {
      "text/plain": [
       "True"
      ]
     },
     "execution_count": 41,
     "metadata": {},
     "output_type": "execute_result"
    }
   ],
   "source": [
    "def palindrome(word):\n",
    "    word = word.lower().replace(\" \", \"\")\n",
    "\n",
    "    pal_word = word[::-1]\n",
    "\n",
    "    return word == pal_word\n",
    "\n",
    "word = \"level\"\n",
    "\n",
    "palindrome(word)"
   ]
  },
  {
   "cell_type": "markdown",
   "metadata": {},
   "source": [
    "6. Write a program that replaces all occurrences of \"a\" with \"o\" in a given string."
   ]
  },
  {
   "cell_type": "code",
   "execution_count": 42,
   "metadata": {},
   "outputs": [
    {
     "name": "stdout",
     "output_type": "stream",
     "text": [
      "Occerenced word is Ono\n"
     ]
    }
   ],
   "source": [
    "def repl(word):\n",
    "    word1 = word.replace(\"a\", \"o\")\n",
    "    print(f\"Occerenced word is {word1}\")\n",
    "\n",
    "repl(\"Ona\")"
   ]
  },
  {
   "cell_type": "markdown",
   "metadata": {},
   "source": [
    "7. Create a program that extracts the username from an email address."
   ]
  },
  {
   "cell_type": "code",
   "execution_count": 44,
   "metadata": {},
   "outputs": [
    {
     "name": "stdout",
     "output_type": "stream",
     "text": [
      "The username is nurbek\n"
     ]
    }
   ],
   "source": [
    "def gmail(email):\n",
    "    username = email.split(\"@\")[0]\n",
    "    print(f\"The username is {username}\")\n",
    "\n",
    "gmail(\"nurbek@gmail.com\")"
   ]
  },
  {
   "cell_type": "markdown",
   "metadata": {},
   "source": [
    "8. Write a program that takes a string and prints it in title case."
   ]
  },
  {
   "cell_type": "code",
   "execution_count": 46,
   "metadata": {},
   "outputs": [
    {
     "name": "stdout",
     "output_type": "stream",
     "text": [
      "Title case: I Am Nurbek\n"
     ]
    }
   ],
   "source": [
    "def title_case(a):\n",
    "    titles = a.title()\n",
    "    print(f\"Title case: {titles}\")\n",
    "\n",
    "title_case(\"I am Nurbek\")\n"
   ]
  },
  {
   "cell_type": "markdown",
   "metadata": {},
   "source": [
    "9. Write a program to remove the first and last characters of a string."
   ]
  },
  {
   "cell_type": "code",
   "execution_count": 48,
   "metadata": {},
   "outputs": [
    {
     "name": "stdout",
     "output_type": "stream",
     "text": [
      "Fixed word is: Hello Nurbek\n"
     ]
    }
   ],
   "source": [
    "def character(a):\n",
    "    a1 = a[1:-1]\n",
    "\n",
    "    print(f\"Fixed word is: {a1}\")\n",
    "\n",
    "character(\"1Hello Nurbek1\")\n"
   ]
  },
  {
   "cell_type": "markdown",
   "metadata": {},
   "source": [
    "10. Create a program that checks if a word is present in a sentence."
   ]
  },
  {
   "cell_type": "code",
   "execution_count": 51,
   "metadata": {},
   "outputs": [
    {
     "name": "stdout",
     "output_type": "stream",
     "text": [
      "worked is present in this sentence\n"
     ]
    }
   ],
   "source": [
    "def word_has(a, b):\n",
    "    if b in a:\n",
    "        print(f\"{b} is present in this sentence\")\n",
    "    else:\n",
    "        print(f\"{b} is not present in this sentence\")\n",
    "\n",
    "word_has(\"I worked\", \"worked\")"
   ]
  },
  {
   "cell_type": "markdown",
   "metadata": {},
   "source": [
    "11. Create a program that finds the position of the first occurrence of a character in a string."
   ]
  },
  {
   "cell_type": "code",
   "execution_count": 52,
   "metadata": {},
   "outputs": [
    {
     "name": "stdout",
     "output_type": "stream",
     "text": [
      "The position of the first . is 8\n"
     ]
    }
   ],
   "source": [
    "def focc(a):\n",
    "    highlited_symbol = \".\"\n",
    "    position = a.find(highlited_symbol)\n",
    "    print(f\"The position of the first . is {position}\")\n",
    "\n",
    "focc(\"We write. You listen\") "
   ]
  },
  {
   "cell_type": "markdown",
   "metadata": {},
   "source": [
    "12. Create a program that extracts the last three characters of a string"
   ]
  },
  {
   "cell_type": "code",
   "execution_count": 57,
   "metadata": {},
   "outputs": [
    {
     "name": "stdout",
     "output_type": "stream",
     "text": [
      "The last three character is ing\n"
     ]
    }
   ],
   "source": [
    "def ex(a):\n",
    "    a1 = a[-3:]\n",
    "    print(f\"The last three character is {a1}\")\n",
    "ex(\"When we arrived, they were drinking\")\n"
   ]
  },
  {
   "cell_type": "markdown",
   "metadata": {},
   "source": [
    "13. Write a program that repeats a string a specified number of times."
   ]
  },
  {
   "cell_type": "code",
   "execution_count": 58,
   "metadata": {},
   "outputs": [
    {
     "name": "stdout",
     "output_type": "stream",
     "text": [
      "The result string is HiHiHiHiHiHiHiHiHiHi\n"
     ]
    }
   ],
   "source": [
    "def repeat(string, times):\n",
    "    repeated = string*times\n",
    "    print(f\"The result string is {repeated}\")\n",
    "\n",
    "repeat(\"Hi\", 10)"
   ]
  },
  {
   "cell_type": "markdown",
   "metadata": {},
   "source": [
    "14. Write a program that takes a sentence and prints each word on a new line."
   ]
  },
  {
   "cell_type": "code",
   "execution_count": 65,
   "metadata": {},
   "outputs": [
    {
     "name": "stdout",
     "output_type": "stream",
     "text": [
      "Hi\n",
      "my\n",
      "name\n",
      "is\n",
      "Nurbek\n"
     ]
    }
   ],
   "source": [
    "def splitting(a):\n",
    "    a1 = a.split()\n",
    "\n",
    "    for i in a1:\n",
    "        print(i)\n",
    "\n",
    "splitting(\"Hi my name is Nurbek\")"
   ]
  },
  {
   "cell_type": "markdown",
   "metadata": {},
   "source": [
    "15. Create a program to print only the letters that appear at even positions in a string"
   ]
  },
  {
   "cell_type": "code",
   "execution_count": 71,
   "metadata": {},
   "outputs": [
    {
     "name": "stdout",
     "output_type": "stream",
     "text": [
      "Hlo\n"
     ]
    }
   ],
   "source": [
    "def even_pos(a):\n",
    "    a1 = a[0::2]\n",
    "    print(a1)\n",
    "\n",
    "even_pos(\"Hello\")"
   ]
  },
  {
   "cell_type": "markdown",
   "metadata": {},
   "source": [
    "16. Create a program that formats a string to look like Title: <String"
   ]
  },
  {
   "cell_type": "code",
   "execution_count": 73,
   "metadata": {},
   "outputs": [
    {
     "name": "stdout",
     "output_type": "stream",
     "text": [
      "Title: Hello\n"
     ]
    }
   ],
   "source": [
    "def givingTitle(a):\n",
    "    a1 = f\"Title: {a}\"\n",
    "    print(a1)\n",
    "givingTitle(\"Hello\")"
   ]
  },
  {
   "cell_type": "markdown",
   "metadata": {},
   "source": [
    "17. Create a program that takes a sentence and prints it in reverse order."
   ]
  },
  {
   "cell_type": "code",
   "execution_count": 74,
   "metadata": {},
   "outputs": [
    {
     "name": "stdout",
     "output_type": "stream",
     "text": [
      "Reversed word is droW\n"
     ]
    }
   ],
   "source": [
    "def reverse(a):\n",
    "    reversed = a[::-1]\n",
    "    print(f\"Reversed word is {reversed}\")\n",
    "\n",
    "reverse(\"Word\")"
   ]
  },
  {
   "cell_type": "markdown",
   "metadata": {},
   "source": [
    "18. Create a program to find the difference in length between two strings."
   ]
  },
  {
   "cell_type": "code",
   "execution_count": 76,
   "metadata": {},
   "outputs": [
    {
     "name": "stdout",
     "output_type": "stream",
     "text": [
      "The difference in length between Hello and Good is 1\n"
     ]
    }
   ],
   "source": [
    "def diff(a, b):\n",
    "    a1 = len(a)\n",
    "    b1 = len(b)\n",
    "    difference = a1 -b1\n",
    "    print(f\"The difference in length between {a} and {b} is {difference}\")\n",
    "\n",
    "diff(\"Hello\", \"Good\")\n",
    "\n"
   ]
  },
  {
   "cell_type": "markdown",
   "metadata": {},
   "source": [
    "#Boolean Data Type (8 Questions)"
   ]
  },
  {
   "cell_type": "markdown",
   "metadata": {},
   "source": [
    "1. Write a program that accepts a username and password and checks if both are not empty."
   ]
  },
  {
   "cell_type": "code",
   "execution_count": 82,
   "metadata": {},
   "outputs": [
    {
     "data": {
      "text/plain": [
       "False"
      ]
     },
     "execution_count": 82,
     "metadata": {},
     "output_type": "execute_result"
    }
   ],
   "source": [
    "def checking(password, username):\n",
    "    if password=='' or username=='':\n",
    "        return False\n",
    "    else:\n",
    "        return True\n",
    "\n",
    "checking(12345678, \"\")"
   ]
  },
  {
   "cell_type": "markdown",
   "metadata": {},
   "source": [
    "2. Create a program that checks if two numbers are equal and outputs a message if they are."
   ]
  },
  {
   "cell_type": "code",
   "execution_count": 81,
   "metadata": {},
   "outputs": [
    {
     "data": {
      "text/plain": [
       "False"
      ]
     },
     "execution_count": 81,
     "metadata": {},
     "output_type": "execute_result"
    }
   ],
   "source": [
    "def equalistic(a, b):\n",
    "    if a==b:\n",
    "        return True\n",
    "    else:\n",
    "        return False\n",
    "\n",
    "equalistic(12, 13)"
   ]
  },
  {
   "cell_type": "markdown",
   "metadata": {},
   "source": [
    "4. Write a program that takes three numbers and checks if all of them are different."
   ]
  },
  {
   "cell_type": "code",
   "execution_count": 84,
   "metadata": {},
   "outputs": [
    {
     "data": {
      "text/plain": [
       "True"
      ]
     },
     "execution_count": 84,
     "metadata": {},
     "output_type": "execute_result"
    }
   ],
   "source": [
    "def three(a, b, c):\n",
    "    if a==b or a==c or b==c:\n",
    "        return True\n",
    "    else:\n",
    "        return False\n",
    "    \n",
    "three(3, 4, 4)"
   ]
  },
  {
   "cell_type": "markdown",
   "metadata": {},
   "source": [
    "5. Create a program that accepts two strings and checks if they have the same length."
   ]
  },
  {
   "cell_type": "code",
   "execution_count": 85,
   "metadata": {},
   "outputs": [
    {
     "data": {
      "text/plain": [
       "True"
      ]
     },
     "execution_count": 85,
     "metadata": {},
     "output_type": "execute_result"
    }
   ],
   "source": [
    "def smLen(a, b):\n",
    "    a1 = len(a)\n",
    "    b1 = len(b)\n",
    "    if a1 == b1:\n",
    "        return True\n",
    "    else:\n",
    "        return False\n",
    "    \n",
    "smLen(\"Mom\", \"Dad\")"
   ]
  },
  {
   "cell_type": "markdown",
   "metadata": {},
   "source": [
    "6. Create a program that accepts a number and checks if it’s divisible by both 3 and 5."
   ]
  },
  {
   "cell_type": "code",
   "execution_count": 86,
   "metadata": {},
   "outputs": [
    {
     "data": {
      "text/plain": [
       "True"
      ]
     },
     "execution_count": 86,
     "metadata": {},
     "output_type": "execute_result"
    }
   ],
   "source": [
    "def divisible(a):\n",
    "    if a%3==0 and a%5==0:\n",
    "        return True\n",
    "    else:\n",
    "        return False\n",
    "    \n",
    "divisible(15)"
   ]
  },
  {
   "cell_type": "markdown",
   "metadata": {},
   "source": [
    "7. Write a program that checks if the sum of two numbers is greater than 50."
   ]
  },
  {
   "cell_type": "code",
   "execution_count": 87,
   "metadata": {},
   "outputs": [
    {
     "data": {
      "text/plain": [
       "False"
      ]
     },
     "execution_count": 87,
     "metadata": {},
     "output_type": "execute_result"
    }
   ],
   "source": [
    "def above50(a, b):\n",
    "    summer = a + b\n",
    "    if summer>50:\n",
    "        return True\n",
    "    else:\n",
    "        return False\n",
    "    \n",
    "above50(10, 30)"
   ]
  },
  {
   "cell_type": "markdown",
   "metadata": {},
   "source": [
    "8. Create a program that checks if a given number is between 10 and 20 (inclusive)."
   ]
  },
  {
   "cell_type": "code",
   "execution_count": 90,
   "metadata": {},
   "outputs": [
    {
     "data": {
      "text/plain": [
       "True"
      ]
     },
     "execution_count": 90,
     "metadata": {},
     "output_type": "execute_result"
    }
   ],
   "source": [
    "def betw(a):\n",
    "    if 10 <= a <= 20:\n",
    "        return True\n",
    "    else:\n",
    "        return False\n",
    "\n",
    "betw(12)"
   ]
  }
 ],
 "metadata": {
  "kernelspec": {
   "display_name": "Python 3",
   "language": "python",
   "name": "python3"
  },
  "language_info": {
   "codemirror_mode": {
    "name": "ipython",
    "version": 3
   },
   "file_extension": ".py",
   "mimetype": "text/x-python",
   "name": "python",
   "nbconvert_exporter": "python",
   "pygments_lexer": "ipython3",
   "version": "3.12.6"
  }
 },
 "nbformat": 4,
 "nbformat_minor": 2
}

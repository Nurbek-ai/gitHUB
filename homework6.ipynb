{
 "cells": [
  {
   "cell_type": "markdown",
   "metadata": {},
   "source": [
    "<font size=\"5\" color=\"white\">Vector Class</font>"
   ]
  },
  {
   "cell_type": "code",
   "execution_count": 3,
   "metadata": {},
   "outputs": [],
   "source": [
    "import math\n",
    "\n",
    "class Vector:\n",
    "    def __init__(self, *args):\n",
    "        self.args = args\n",
    "\n",
    "    # Boolean Evaluation\n",
    "    def no_zero_here(self):\n",
    "        return all(vector != 0 for vector in self.args)\n",
    "\n",
    "    # Arithmetic operations +\n",
    "    def __add__(self, other):\n",
    "        if len(self.args) != len(other.args):\n",
    "            raise ValueError(\"Cannot add these vectors\")\n",
    "        return Vector(*(a + b for a, b in zip(self.args, other.args)))\n",
    "\n",
    "    # Arithmetic operations -\n",
    "    def __sub__(self, other):\n",
    "        if len(self.args) != len(other.args):\n",
    "            raise ValueError(\"Cannot subtract these vectors\")\n",
    "        return Vector(*(a - b for a, b in zip(self.args, other.args)))\n",
    "\n",
    "    # Arithmetic operations *\n",
    "    def __mul__(self, other):\n",
    "        if len(self.args) != len(other.args):\n",
    "            raise ValueError(\"Cannot multiply these vectors\")\n",
    "        return Vector(*(a * b for a, b in zip(self.args, other.args)))\n",
    "\n",
    "    # Comparison operation =\n",
    "    def __eq__(self, other):\n",
    "        return self.args == other.args\n",
    "\n",
    "    # Indexing and Slicing\n",
    "    def __getitem__(self, indexing):\n",
    "        return self.args[indexing]\n",
    "\n",
    "    def __setitem__(self, indexing, vector):\n",
    "        self.args[indexing] = vector\n",
    "\n",
    "    def __repr__(self):\n",
    "        return f\"Vector{self.args}\"\n",
    "\n",
    "    # Length (len())\n",
    "    def __len__(self):\n",
    "        return int(len(self.args))\n",
    "\n",
    "    # Absolute Value\n",
    "    def length_of_vector(self):\n",
    "        adding_all_vectors = sum(vector ** 2 for vector in self.args)\n",
    "        return math.sqrt(adding_all_vectors)\n",
    "\n",
    "    # Scaling\n",
    "    def multiplication_of_all_vectors(self, number):\n",
    "        multiple_all_vectors = [vector * number for vector in self.args]\n",
    "        return Vector(*multiple_all_vectors)\n",
    "\n",
    "    def divide_by_number(self, number):\n",
    "        division_all_vectors = [vector / number for vector in self.args]\n",
    "        return Vector(*division_all_vectors)\n",
    "\n",
    "    # Negation\n",
    "    def become_negative_form(self):\n",
    "        negation = [-vector for vector in self.args]\n",
    "        return Vector(*negation)"
   ]
  },
  {
   "cell_type": "code",
   "execution_count": 5,
   "metadata": {},
   "outputs": [
    {
     "name": "stdout",
     "output_type": "stream",
     "text": [
      "Vector(15, 6, 8)\n",
      "True\n",
      "11.874342087037917\n",
      "Vector(-10, -4, -5)\n",
      "Vector(3.3333333333333335, 1.3333333333333333, 1.6666666666666667)\n",
      "Vector(10, 4, 6)\n",
      "Vector(-10, -4, -5)\n"
     ]
    }
   ],
   "source": [
    "v1 = Vector(10, 4, 5)\n",
    "v2 = Vector(5, 2, 3)\n",
    "print(v1 + v2)\n",
    "print(v1.no_zero_here())\n",
    "print(v1.length_of_vector())\n",
    "print(v1.become_negative_form())\n",
    "print(v1.divide_by_number(3))\n",
    "print(v2.multiplication_of_all_vectors(2))\n",
    "print(v1.become_negative_form())"
   ]
  }
 ],
 "metadata": {
  "kernelspec": {
   "display_name": "Python 3",
   "language": "python",
   "name": "python3"
  },
  "language_info": {
   "codemirror_mode": {
    "name": "ipython",
    "version": 3
   },
   "file_extension": ".py",
   "mimetype": "text/x-python",
   "name": "python",
   "nbconvert_exporter": "python",
   "pygments_lexer": "ipython3",
   "version": "3.12.6"
  }
 },
 "nbformat": 4,
 "nbformat_minor": 2
}
